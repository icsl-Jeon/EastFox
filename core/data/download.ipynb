{
 "cells": [
  {
   "cell_type": "code",
   "execution_count": 60,
   "metadata": {
    "pycharm": {
     "name": "#%%\n"
    }
   },
   "outputs": [],
   "source": [
    "from dotenv import load_dotenv\n",
    "import fmpsdk\n",
    "import pandas as pd\n",
    "import os\n",
    "\n",
    "load_dotenv()\n",
    "apikey = os.environ.get(\"apikey\")\n",
    "\n",
    "snp500 = pd.DataFrame(fmpsdk.sp500_constituent(apikey))"
   ]
  },
  {
   "cell_type": "code",
   "execution_count": 50,
   "outputs": [
    {
     "name": "stdout",
     "output_type": "stream",
     "text": [
      "PROFILE_SECTOR_INDUSTRIALS='Industrials'\n",
      "PROFILE_SECTOR_HEALTH_CARE='Health Care'\n",
      "PROFILE_SECTOR_INFORMATION_TECHNOLOGY='Information Technology'\n",
      "PROFILE_SECTOR_COMMUNICATION_SERVICES='Communication Services'\n",
      "PROFILE_SECTOR_CONSUMER_STAPLES='Consumer Staples'\n",
      "PROFILE_SECTOR_CONSUMER_DISCRETIONARY='Consumer Discretionary'\n",
      "PROFILE_SECTOR_UTILITIES='Utilities'\n",
      "PROFILE_SECTOR_FINANCIALS='Financials'\n",
      "PROFILE_SECTOR_MATERIALS='Materials'\n",
      "PROFILE_SECTOR_REAL_ESTATE='Real Estate'\n",
      "PROFILE_SECTOR_ENERGY='Energy'\n"
     ]
    }
   ],
   "source": [
    "sectors = snp500['sector'].unique().tolist()\n",
    "sector_constant_list = [('PROFILE_SECTOR_' + sector_key.upper().replace(\" \", \"_\") + '=\\'' + sector_key + '\\'')\n",
    "                        for\n",
    "                        sector_key in\n",
    "                        sectors]\n",
    "\n",
    "with open(\"sector_constant.txt\", \"a\") as f:\n",
    "    print(*sector_constant_list, sep=\"\\n\", file=f)"
   ],
   "metadata": {
    "collapsed": false,
    "pycharm": {
     "name": "#%%\n"
    }
   }
  },
  {
   "cell_type": "code",
   "execution_count": 65,
   "outputs": [],
   "source": [
    "sub_sectors = snp500['subSector'].unique().tolist()\n",
    "sector_constant_list = [('PROFILE_INDUSTRY_' +\n",
    "                         sector_key.upper().\n",
    "                         replace(\"&\", \"\").\n",
    "                         replace(\"-\", \"_\").replace(\", \", \"\").replace(\" \", \"_\").replace(\"__\",\n",
    "                                                                                       \"_\") + '=\\'' + sector_key + '\\'')\n",
    "                        for\n",
    "                        sector_key in\n",
    "                        sub_sectors]\n",
    "with open(\"sub_sector_constant.txt\", \"w\") as f:\n",
    "    print(*sector_constant_list, sep=\"\\n\", file=f)"
   ],
   "metadata": {
    "collapsed": false,
    "pycharm": {
     "name": "#%%\n"
    }
   }
  },
  {
   "cell_type": "code",
   "execution_count": 15,
   "outputs": [],
   "source": [
    "title = 'company-profile'\n",
    "from datetime import date\n",
    "\n",
    "today = date.today()\n",
    "\n",
    "file_name = title + '-' + (today.strftime(\"%Y%m%d\")) + '.csv'\n",
    "\n",
    "df_snp500 = snp500.copy()\n",
    "df_snp500.set_index('symbol', inplace=True)\n",
    "df_snp500.to_csv(file_name, index=True)"
   ],
   "metadata": {
    "collapsed": false,
    "pycharm": {
     "name": "#%%\n"
    }
   }
  },
  {
   "cell_type": "code",
   "execution_count": 2,
   "metadata": {
    "pycharm": {
     "name": "#%%\n"
    }
   },
   "outputs": [
    {
     "name": "stderr",
     "output_type": "stream",
     "text": [
      "100%|██████████| 503/503 [11:09<00:00,  1.33s/it]\n"
     ]
    }
   ],
   "source": [
    "title = 'financial-ratios'\n",
    "period = 'quarter'\n",
    "\n",
    "from tqdm import tqdm\n",
    "import pandas as pd\n",
    "from datetime import date\n",
    "\n",
    "symbols = snp500['symbol']\n",
    "fmp_financial_ratios = []\n",
    "for symbol in tqdm(symbols):\n",
    "    fmp_financial_ratios += fmpsdk.financial_ratios(apikey=apikey, symbol=symbol, limit=-1, period=period)\n",
    "\n",
    "df_financial_ratios = pd.DataFrame(fmp_financial_ratios, index=None)\n",
    "\n",
    "today = date.today()\n",
    "fmp_api_name = title + '-' + period\n",
    "file_name = fmp_api_name + '-' + (today.strftime(\"%Y%m%d\")) + '.csv'\n",
    "df_financial_ratios.to_csv(file_name, index=False)"
   ]
  },
  {
   "cell_type": "code",
   "execution_count": 57,
   "outputs": [
    {
     "name": "stderr",
     "output_type": "stream",
     "text": [
      "C:\\Users\\JBS\\AppData\\Local\\Temp\\ipykernel_19092\\666637363.py:21: DeprecationWarning: cafile, capath and cadefault are deprecated, use a custom context instead.\n",
      "  response = urlopen(url, cafile=certifi.where())\n"
     ]
    }
   ],
   "source": [
    "title = 'economic-indicators'\n",
    "\n",
    "from datetime import date\n",
    "\n",
    "today = date.today()\n",
    "from urllib.request import urlopen\n",
    "import certifi\n",
    "import json\n",
    "import os\n",
    "from dotenv import load_dotenv\n",
    "\n",
    "from_date = '1962-01-01'\n",
    "to_date = today.strftime(\"%Y-%m-%d\")\n",
    "economic_indicators = ['CPI', 'inflationRate', 'inflation', 'unemploymentRate']\n",
    "\n",
    "load_dotenv()\n",
    "apikey = os.environ.get(\"apikey\")\n",
    "\n",
    "\n",
    "def get_jsonparsed_data(url):\n",
    "    response = urlopen(url, cafile=certifi.where())\n",
    "    data = response.read().decode(\"utf-8\")\n",
    "    return json.loads(data)\n",
    "\n",
    "\n",
    "def economic_indicator(topic: str):\n",
    "    url = \"https://financialmodelingprep.com/api/v4/economic?name={}&from={}&to={}&apikey={}\".format(\n",
    "        topic, from_date, to_date, apikey)\n",
    "    fmp_economic_indicator = get_jsonparsed_data(url)\n",
    "    return [{'date': item['date'], topic: item['value']} for item in fmp_economic_indicator]\n",
    "\n",
    "\n",
    "result = []\n",
    "for topic in economic_indicators:\n",
    "    result += (economic_indicator(topic=topic))\n",
    "\n",
    "df_economic_indicators = pd.DataFrame(result)\n",
    "df_economic_indicators.set_index('date', inplace=True)\n",
    "df_economic_indicators.index = pd.to_datetime(df_economic_indicators.index)\n",
    "df_economic_indicators = df_economic_indicators.sort_index()\n",
    "\n",
    "import numpy as np\n",
    "\n",
    "df_economic_indicators = df_economic_indicators.groupby(df_economic_indicators.index).sum()\n",
    "df_economic_indicators.replace(0, np.nan, inplace=True)\n",
    "file_name = title + '-' + (today.strftime(\"%Y%m%d\")) + '.csv'\n",
    "df_economic_indicators.to_csv(file_name, index=True)"
   ],
   "metadata": {
    "collapsed": false,
    "pycharm": {
     "name": "#%%\n"
    }
   }
  },
  {
   "cell_type": "code",
   "execution_count": 17,
   "outputs": [],
   "source": [
    "title = 'market-index'\n",
    "from datetime import date\n",
    "\n",
    "today = date.today()\n",
    "from dotenv import load_dotenv\n",
    "import fmpsdk\n",
    "import pandas as pd\n",
    "import os\n",
    "\n",
    "load_dotenv()\n",
    "apikey = os.environ.get(\"apikey\")\n",
    "\n",
    "from_date = '1962-01-01'\n",
    "to_date = today.strftime(\"%Y-%m-%d\")\n",
    "index_list = pd.DataFrame(fmpsdk.available_indexes(apikey=apikey))\n",
    "target_index_list = ['^GSPC', '^TYX', '^FVX', '^TNX']\n",
    "\n",
    "target_index_history = []\n",
    "for target_index in target_index_list:\n",
    "    for item in fmpsdk.historical_price_full(apikey=apikey, symbol=target_index, from_date=from_date, to_date=to_date):\n",
    "        target_index_history.append({'symbol': target_index, 'date': item['date'], 'price': item['adjClose']})\n",
    "\n",
    "df_market_index = pd.DataFrame(target_index_history)\n",
    "df_market_index = df_market_index.pivot(index='date', columns='symbol', values='price')\n",
    "file_name = title + '-' + (today.strftime(\"%Y%m%d\")) + '.csv'\n",
    "df_market_index.to_csv(file_name, index=True)"
   ],
   "metadata": {
    "collapsed": false,
    "pycharm": {
     "name": "#%%\n"
    }
   }
  },
  {
   "cell_type": "code",
   "execution_count": 23,
   "outputs": [
    {
     "name": "stderr",
     "output_type": "stream",
     "text": [
      "100%|██████████| 503/503 [12:38<00:00,  1.51s/it]\n"
     ]
    }
   ],
   "source": [
    "title = 'market-capitalization'\n",
    "from dotenv import load_dotenv\n",
    "import fmpsdk\n",
    "import pandas as pd\n",
    "from tqdm import tqdm\n",
    "import os\n",
    "\n",
    "load_dotenv()\n",
    "\n",
    "apikey = os.environ.get(\"apikey\")\n",
    "\n",
    "result = []\n",
    "for symbol in tqdm(snp500['symbol']):\n",
    "    result += fmpsdk.historical_market_capitalization(symbol=symbol, apikey=apikey, limit=-1)\n",
    "\n",
    "from datetime import date\n",
    "\n",
    "today = date.today()\n",
    "df_market_capitalization = pd.DataFrame(result)\n",
    "file_name = title + '-' + (today.strftime(\"%Y%m%d\")) + '.csv'\n",
    "df_market_capitalization.to_csv(file_name, index=False)"
   ],
   "metadata": {
    "collapsed": false,
    "pycharm": {
     "name": "#%%\n"
    }
   }
  },
  {
   "cell_type": "code",
   "execution_count": 9,
   "outputs": [],
   "source": [
    "import pandas as pd\n",
    "from datetime import date\n",
    "title = 'market-capitalization'\n",
    "\n",
    "today = date.today()\n",
    "df_market_capitalization = pd.read_csv('market-capitalization-20220828.csv')[::4]\n",
    "file_name = title + '-' + (today.strftime(\"%Y%m%d\")) + '.csv'\n",
    "df_market_capitalization.to_csv(file_name, index=False)"
   ],
   "metadata": {
    "collapsed": false,
    "pycharm": {
     "name": "#%%\n"
    }
   }
  },
  {
   "cell_type": "code",
   "execution_count": 45,
   "outputs": [],
   "source": [
    "title = 'etc-history'\n",
    "from dotenv import load_dotenv\n",
    "import fmpsdk\n",
    "import pandas as pd\n",
    "from tqdm import tqdm\n",
    "import os\n",
    "\n",
    "load_dotenv()\n",
    "apikey = os.environ.get(\"apikey\")\n",
    "\n",
    "df_bitcoin_history = \\\n",
    "    pd.DataFrame(fmpsdk.historical_price_full(symbol='BTCUSD', apikey=apikey)).set_index('date').sort_index()['adjClose']\n",
    "df_bitcoin_history.rename('BTCUSD', inplace=True)\n",
    "\n",
    "df_covid_history = pd.read_csv('covid-case.csv', index_col='date')['cases']\n",
    "df_covid_history.rename('covidCases', inplace=True)\n",
    "df_etc = pd.concat([df_covid_history, df_bitcoin_history], axis=1, ).sort_index()\n",
    "\n",
    "from datetime import date\n",
    "\n",
    "today = date.today()\n",
    "file_name = title + '-' + (today.strftime(\"%Y%m%d\")) + '.csv'\n",
    "df_etc.to_csv(file_name, index=True)"
   ],
   "metadata": {
    "collapsed": false,
    "pycharm": {
     "name": "#%%\n"
    }
   }
  },
  {
   "cell_type": "code",
   "execution_count": 70,
   "outputs": [
    {
     "name": "stderr",
     "output_type": "stream",
     "text": [
      "100%|██████████| 503/503 [21:10<00:00,  2.53s/it]\n",
      "100%|██████████| 503/503 [25:41<00:00,  3.06s/it]\n"
     ]
    }
   ],
   "source": [
    "title = 'financial-statements'\n",
    "\n",
    "from dotenv import load_dotenv\n",
    "import fmpsdk\n",
    "import pandas as pd\n",
    "from tqdm import tqdm\n",
    "import os\n",
    "\n",
    "load_dotenv()\n",
    "apikey = os.environ.get(\"apikey\")\n",
    "\n",
    "financial_statements = dict()\n",
    "for period in ['annual', 'quarter']:\n",
    "    fmp_income_statement = []\n",
    "    fmp_balance_sheet = []\n",
    "    fmp_cashflow_statement = []\n",
    "    for symbol in tqdm(snp500['symbol']):\n",
    "        fmp_income_statement += fmpsdk.income_statement(apikey=apikey, symbol=symbol, period=period, limit=-1)\n",
    "        fmp_balance_sheet += fmpsdk.balance_sheet_statement(apikey=apikey, symbol=symbol, period=period, limit=-1)\n",
    "        fmp_cashflow_statement += fmpsdk.cash_flow_statement(apikey=apikey, symbol=symbol, period=period, limit=-1)\n",
    "    financial_statements.update({period: [fmp_income_statement, fmp_balance_sheet, fmp_cashflow_statement]})"
   ],
   "metadata": {
    "collapsed": false,
    "pycharm": {
     "name": "#%%\n"
    }
   }
  },
  {
   "cell_type": "code",
   "execution_count": 77,
   "outputs": [],
   "source": [
    "from datetime import date\n",
    "\n",
    "today = date.today()\n",
    "for period in ['annual', 'quarter']:\n",
    "    file_name = title + '-' + period + '-' + (today.strftime(\"%Y%m%d\")) + '.csv'\n",
    "    df_financial_statements = pd.concat([pd.DataFrame(item) for item in financial_statements[period]], axis=1)\n",
    "    df_financial_statements.to_csv(file_name, index=False)\n"
   ],
   "metadata": {
    "collapsed": false,
    "pycharm": {
     "name": "#%%\n"
    }
   }
  },
  {
   "cell_type": "code",
   "execution_count": 81,
   "outputs": [],
   "source": [
    "columns = df_financial_statements.columns\n",
    "with open(\"financial_statements_list.txt\", \"a\") as f:\n",
    "    print(*columns, sep=\"\\n\", file=f)"
   ],
   "metadata": {
    "collapsed": false,
    "pycharm": {
     "name": "#%%\n"
    }
   }
  },
  {
   "cell_type": "code",
   "execution_count": null,
   "outputs": [],
   "source": [
    "# TODO\n",
    "\n",
    "import pickle\n",
    "import pandas as pd\n",
    "\n",
    "with open('snp500_price_list_19620102_20220814.pickle', 'rb') as file:\n",
    "    data = pickle.load(file)\n",
    "\n",
    "df_data = pd.DataFrame(data)\n",
    "df_data.to_csv('snp500_price_list_19620102_20220814.csv', index=True, index_label='date')\n"
   ],
   "metadata": {
    "collapsed": false,
    "pycharm": {
     "name": "#%%\n"
    }
   }
  },
  {
   "cell_type": "code",
   "execution_count": 16,
   "outputs": [],
   "source": [
    "import pandas as pd\n",
    "\n",
    "df_result = pd.DataFrame(result)"
   ],
   "metadata": {
    "collapsed": false,
    "pycharm": {
     "name": "#%%\n"
    }
   }
  }
 ],
 "metadata": {
  "kernelspec": {
   "display_name": "Python 3.10.4 ('django')",
   "language": "python",
   "name": "python3"
  },
  "language_info": {
   "codemirror_mode": {
    "name": "ipython",
    "version": 3
   },
   "file_extension": ".py",
   "mimetype": "text/x-python",
   "name": "python",
   "nbconvert_exporter": "python",
   "pygments_lexer": "ipython3",
   "version": "3.10.4"
  },
  "orig_nbformat": 4,
  "vscode": {
   "interpreter": {
    "hash": "9dca059c2cfd48b5b215bc81a5bfcbd3e92e2946ff192efe0cd3114a3f5aa30b"
   }
  }
 },
 "nbformat": 4,
 "nbformat_minor": 2
}