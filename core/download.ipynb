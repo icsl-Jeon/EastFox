{
 "cells": [
  {
   "cell_type": "code",
   "execution_count": 1,
   "metadata": {
    "pycharm": {
     "name": "#%%\n"
    }
   },
   "outputs": [],
   "source": [
    "from dotenv import load_dotenv\n",
    "import fmpsdk\n",
    "import pandas as pd\n",
    "import os\n",
    "\n",
    "load_dotenv()\n",
    "apikey = os.environ.get(\"apikey\")\n",
    "\n",
    "snp500 = pd.DataFrame(fmpsdk.sp500_constituent(apikey))"
   ]
  },
  {
   "cell_type": "code",
   "execution_count": 2,
   "metadata": {
    "pycharm": {
     "name": "#%%\n"
    }
   },
   "outputs": [
    {
     "name": "stderr",
     "output_type": "stream",
     "text": [
      "100%|██████████| 503/503 [11:09<00:00,  1.33s/it]\n"
     ]
    }
   ],
   "source": [
    "title = 'financial-ratios'\n",
    "period = 'quarter'\n",
    "\n",
    "from tqdm import tqdm\n",
    "import pandas as pd\n",
    "from datetime import date\n",
    "\n",
    "symbols = snp500['symbol']\n",
    "fmp_financial_ratios = []\n",
    "for symbol in tqdm(symbols):\n",
    "    fmp_financial_ratios += fmpsdk.financial_ratios(apikey=apikey, symbol=symbol, limit=-1, period=period)\n",
    "\n",
    "df_financial_ratios = pd.DataFrame(fmp_financial_ratios, index=None)\n",
    "\n",
    "today = date.today()\n",
    "fmp_api_name = title + '-' + period\n",
    "file_name = fmp_api_name + '-' + (today.strftime(\"%Y%m%d\")) + '.csv'\n",
    "df_financial_ratios.to_csv(file_name, index=False)"
   ]
  },
  {
   "cell_type": "code",
   "execution_count": 1,
   "outputs": [],
   "source": [
    "import pandas as pd\n",
    "\n",
    "df_price_history_full = pd.read_csv('price_list_19620102_20220814.csv', index_col=None)"
   ],
   "metadata": {
    "collapsed": false,
    "pycharm": {
     "name": "#%%\n"
    }
   }
  },
  {
   "cell_type": "code",
   "execution_count": 2,
   "metadata": {
    "pycharm": {
     "name": "#%%\n"
    }
   },
   "outputs": [],
   "source": [
    "import pickle\n",
    "\n",
    "with open('snp500_price_list_19620102_20220814.pickle', 'rb') as f:\n",
    "    dict_symbol_result = pickle.load(f)\n",
    "# dict_symbol_result.to_csv('price_list_19620102_20220814.csv',index=False)"
   ]
  },
  {
   "cell_type": "code",
   "execution_count": 3,
   "outputs": [
    {
     "data": {
      "text/plain": "1962-01-02      0.761774\n1962-01-03      0.767502\n1962-01-04      0.767502\n1962-01-05      0.747456\n1962-01-08      0.743160\n                 ...    \n2022-08-08    148.480000\n2022-08-09    147.840000\n2022-08-10    149.380000\n2022-08-11    149.660000\n2022-08-12    152.240000\nName: MMM, Length: 15367, dtype: float64"
     },
     "execution_count": 3,
     "metadata": {},
     "output_type": "execute_result"
    }
   ],
   "source": [
    "dict_symbol_result['MMM']"
   ],
   "metadata": {
    "collapsed": false,
    "pycharm": {
     "name": "#%%\n"
    }
   }
  }
 ],
 "metadata": {
  "kernelspec": {
   "display_name": "Python 3.10.4 ('django')",
   "language": "python",
   "name": "python3"
  },
  "language_info": {
   "codemirror_mode": {
    "name": "ipython",
    "version": 3
   },
   "file_extension": ".py",
   "mimetype": "text/x-python",
   "name": "python",
   "nbconvert_exporter": "python",
   "pygments_lexer": "ipython3",
   "version": "3.10.4"
  },
  "orig_nbformat": 4,
  "vscode": {
   "interpreter": {
    "hash": "9dca059c2cfd48b5b215bc81a5bfcbd3e92e2946ff192efe0cd3114a3f5aa30b"
   }
  }
 },
 "nbformat": 4,
 "nbformat_minor": 2
}