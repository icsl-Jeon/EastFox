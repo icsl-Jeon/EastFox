{
 "cells": [
  {
   "cell_type": "code",
   "execution_count": 1,
   "metadata": {
    "pycharm": {
     "name": "#%%\n"
    }
   },
   "outputs": [],
   "source": [
    "from dotenv import load_dotenv\n",
    "import fmpsdk\n",
    "import pandas as pd\n",
    "import os\n",
    "\n",
    "load_dotenv()\n",
    "apikey = os.environ.get(\"apikey\")\n",
    "\n",
    "snp500 = pd.DataFrame(fmpsdk.sp500_constituent(apikey))"
   ]
  },
  {
   "cell_type": "code",
   "execution_count": 2,
   "metadata": {
    "pycharm": {
     "name": "#%%\n"
    }
   },
   "outputs": [
    {
     "name": "stderr",
     "output_type": "stream",
     "text": [
      "100%|██████████| 503/503 [11:09<00:00,  1.33s/it]\n"
     ]
    }
   ],
   "source": [
    "title = 'financial-ratios'\n",
    "period = 'quarter'\n",
    "\n",
    "from tqdm import tqdm\n",
    "import pandas as pd\n",
    "from datetime import date\n",
    "\n",
    "symbols = snp500['symbol']\n",
    "fmp_financial_ratios = []\n",
    "for symbol in tqdm(symbols):\n",
    "    fmp_financial_ratios += fmpsdk.financial_ratios(apikey=apikey, symbol=symbol, limit=-1, period=period)\n",
    "\n",
    "df_financial_ratios = pd.DataFrame(fmp_financial_ratios, index=None)\n",
    "\n",
    "today = date.today()\n",
    "fmp_api_name = title + '-' + period\n",
    "file_name = fmp_api_name + '-' + (today.strftime(\"%Y%m%d\")) + '.csv'\n",
    "df_financial_ratios.to_csv(file_name, index=False)"
   ]
  },
  {
   "cell_type": "code",
   "execution_count": 52,
   "outputs": [
    {
     "name": "stderr",
     "output_type": "stream",
     "text": [
      "C:\\Users\\JBS\\AppData\\Local\\Temp\\ipykernel_33220\\557546650.py:21: DeprecationWarning: cafile, capath and cadefault are deprecated, use a custom context instead.\n",
      "  response = urlopen(url, cafile=certifi.where())\n"
     ]
    }
   ],
   "source": [
    "title = 'economic-indicators'\n",
    "\n",
    "from datetime import date\n",
    "\n",
    "today = date.today()\n",
    "from urllib.request import urlopen\n",
    "import certifi\n",
    "import json\n",
    "import os\n",
    "from dotenv import load_dotenv\n",
    "\n",
    "from_date = '1962-01-01'\n",
    "to_date = today.strftime(\"%Y-%m-%d\")\n",
    "economic_indicators = ['CPI', 'inflationRate', 'inflation', 'unemploymentRate']\n",
    "\n",
    "load_dotenv()\n",
    "apikey = os.environ.get(\"apikey\")\n",
    "\n",
    "\n",
    "def get_jsonparsed_data(url):\n",
    "    response = urlopen(url, cafile=certifi.where())\n",
    "    data = response.read().decode(\"utf-8\")\n",
    "    return json.loads(data)\n",
    "\n",
    "\n",
    "def economic_indicator(topic: str):\n",
    "    url = \"https://financialmodelingprep.com/api/v4/economic?name={}&from={}&to={}&apikey={}\".format(\n",
    "        topic, from_date, to_date, apikey)\n",
    "    fmp_economic_indicator = get_jsonparsed_data(url)\n",
    "    return [{'date': item['date'], topic: item['value']} for item in fmp_economic_indicator]\n",
    "\n",
    "\n",
    "result = []\n",
    "for topic in economic_indicators:\n",
    "    result += (economic_indicator(topic=topic))\n",
    "\n",
    "df_economic_indicators = pd.DataFrame(result)\n",
    "df_economic_indicators.set_index('date', inplace=True)\n",
    "df_economic_indicators.index = pd.to_datetime(df_economic_indicators.index)\n",
    "df_economic_indicators = df_economic_indicators.sort_index()\n",
    "\n",
    "file_name = title + '-' + (today.strftime(\"%Y%m%d\")) + '.csv'\n",
    "df_economic_indicators.to_csv(file_name,  index=True)\n"
   ],
   "metadata": {
    "collapsed": false,
    "pycharm": {
     "name": "#%%\n"
    }
   }
  },
  {
   "cell_type": "code",
   "execution_count": 39,
   "outputs": [],
   "source": [
    "# TODO\n",
    "title = 'market-index'\n",
    "\n",
    "from dotenv import load_dotenv\n",
    "import fmpsdk\n",
    "import pandas as pd\n",
    "import os\n",
    "\n",
    "load_dotenv()\n",
    "apikey = os.environ.get(\"apikey\")\n",
    "\n",
    "index_list = fmpsdk.available_indexes(apikey=apikey)"
   ],
   "metadata": {
    "collapsed": false,
    "pycharm": {
     "name": "#%%\n"
    }
   }
  },
  {
   "cell_type": "code",
   "execution_count": 69,
   "outputs": [],
   "source": [
    "import pickle\n",
    "import pandas as pd\n",
    "with open('snp500_price_list_19620102_20220814.pickle', 'rb') as file:\n",
    "    data = pickle.load(file)\n",
    "\n",
    "df_data = pd.DataFrame(data)\n",
    "df_data.to_csv('snp500_price_list_19620102_20220814.csv', index=True, index_label='date')\n"
   ],
   "metadata": {
    "collapsed": false,
    "pycharm": {
     "name": "#%%\n"
    }
   }
  },
  {
   "cell_type": "code",
   "execution_count": 70,
   "outputs": [],
   "source": [
    "df_data = pd.read_csv('snp500_price_list_19620102_20220814.csv')\n"
   ],
   "metadata": {
    "collapsed": false,
    "pycharm": {
     "name": "#%%\n"
    }
   }
  },
  {
   "cell_type": "code",
   "execution_count": 10,
   "outputs": [
    {
     "name": "stderr",
     "output_type": "stream",
     "text": [
      "C:\\Users\\junbs\\AppData\\Local\\Temp\\ipykernel_17904\\1070851269.py:15: DeprecationWarning: cafile, capath and cadefault are deprecated, use a custom context instead.\n",
      "  response = urlopen(url, cafile=certifi.where())\n"
     ]
    }
   ],
   "source": [
    "from_date = '1962-01-01'\n",
    "to_date = '2022-08-20'\n",
    "economic_indicators = ['CPI', 'inflationRate', 'inflation', 'unemploymentRate']\n",
    "\n",
    "from urllib.request import urlopen\n",
    "import certifi\n",
    "import json\n",
    "import os\n",
    "from dotenv import load_dotenv\n",
    "\n",
    "load_dotenv()\n",
    "apikey = os.environ.get(\"apikey\")\n",
    "\n",
    "def get_jsonparsed_data(url):\n",
    "    response = urlopen(url, cafile=certifi.where())\n",
    "    data = response.read().decode(\"utf-8\")\n",
    "    return json.loads(data)\n",
    "\n",
    "def economic_indicator(topic: str):\n",
    "    url = \"https://financialmodelingprep.com/api/v4/economic?name={}&from={}&to={}&apikey={}\".format(\n",
    "        topic, from_date, to_date, apikey)\n",
    "    return get_jsonparsed_data(url)\n",
    "\n",
    "result = economic_indicator(topic=economic_indicators[0])\n"
   ],
   "metadata": {
    "collapsed": false,
    "pycharm": {
     "name": "#%%\n"
    }
   }
  },
  {
   "cell_type": "code",
   "execution_count": 16,
   "outputs": [],
   "source": [
    "import pandas as pd\n",
    "df_result = pd.DataFrame(result)"
   ],
   "metadata": {
    "collapsed": false,
    "pycharm": {
     "name": "#%%\n"
    }
   }
  }
 ],
 "metadata": {
  "kernelspec": {
   "display_name": "Python 3.10.4 ('django')",
   "language": "python",
   "name": "python3"
  },
  "language_info": {
   "codemirror_mode": {
    "name": "ipython",
    "version": 3
   },
   "file_extension": ".py",
   "mimetype": "text/x-python",
   "name": "python",
   "nbconvert_exporter": "python",
   "pygments_lexer": "ipython3",
   "version": "3.10.4"
  },
  "orig_nbformat": 4,
  "vscode": {
   "interpreter": {
    "hash": "9dca059c2cfd48b5b215bc81a5bfcbd3e92e2946ff192efe0cd3114a3f5aa30b"
   }
  }
 },
 "nbformat": 4,
 "nbformat_minor": 2
}