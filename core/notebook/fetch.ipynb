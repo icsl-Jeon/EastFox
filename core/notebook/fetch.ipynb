{
 "cells": [
  {
   "cell_type": "code",
   "execution_count": 1,
   "outputs": [],
   "source": [
    "import os\n",
    "from dotenv import load_dotenv\n",
    "from sqlalchemy import create_engine, MetaData, Table, Column, Integer, String\n",
    "import pandas as pd\n",
    "\n",
    "load_dotenv()\n",
    "user_name = os.environ.get(\"sql_user\")\n",
    "password = os.environ.get(\"sql_password\")\n",
    "db_name = os.environ.get(\"sql_db_name\")\n",
    "sql_ip = os.environ.get(\"sql_ip\")\n",
    "sql_port = os.environ.get(\"sql_port\")\n",
    "\n",
    "db_url = f\"mariadb+mariadbconnector://{user_name}:{password}@{sql_ip}:{sql_port}/\"f\"{db_name}\"\n",
    "\n",
    "engine = create_engine(db_url, pool_pre_ping=True, pool_recycle=3600)\n",
    "conn = engine.connect()\n",
    "meta = MetaData()\n",
    "meta.reflect(conn)"
   ],
   "metadata": {
    "collapsed": false,
    "pycharm": {
     "name": "#%%\n"
    }
   }
  },
  {
   "cell_type": "code",
   "execution_count": 41,
   "outputs": [],
   "source": [
    "# Down-sampling (took about 10 sec for 3000-4000)\n",
    "original_table = 'balance_sheet_annual'\n",
    "sql = f'SELECT * FROM {original_table}'\n",
    "result = engine.execute(sql).fetchall()"
   ],
   "metadata": {
    "collapsed": false,
    "pycharm": {
     "name": "#%%\n"
    }
   }
  },
  {
   "cell_type": "code",
   "execution_count": 42,
   "outputs": [],
   "source": [
    "df_result = pd.DataFrame(result)"
   ],
   "metadata": {
    "collapsed": false,
    "pycharm": {
     "name": "#%%\n"
    }
   }
  },
  {
   "cell_type": "code",
   "execution_count": 43,
   "outputs": [],
   "source": [
    "df_result.set_index('date', inplace=True)\n",
    "df_result.index = pd.DatetimeIndex(df_result.index)\n"
   ],
   "metadata": {
    "collapsed": false,
    "pycharm": {
     "name": "#%%\n"
    }
   }
  },
  {
   "cell_type": "code",
   "execution_count": 44,
   "outputs": [],
   "source": [
    "symbols = df_result['symbol'].unique()\n",
    "symbol = 'A'"
   ],
   "metadata": {
    "collapsed": false,
    "pycharm": {
     "name": "#%%\n"
    }
   }
  },
  {
   "cell_type": "code",
   "execution_count": 45,
   "outputs": [],
   "source": [
    "df_result_symbol = df_result[df_result['symbol'] == symbol]"
   ],
   "metadata": {
    "collapsed": false,
    "pycharm": {
     "name": "#%%\n"
    }
   }
  },
  {
   "cell_type": "code",
   "execution_count": 47,
   "outputs": [
    {
     "data": {
      "text/plain": "[False]"
     },
     "execution_count": 47,
     "metadata": {},
     "output_type": "execute_result"
    }
   ],
   "source": [
    "from pandas.api.types import is_numeric_dtype\n",
    "\n",
    "numeric_columns = [is_numeric_dtype(df_result_symbol['symbol'])]"
   ],
   "metadata": {
    "collapsed": false,
    "pycharm": {
     "name": "#%%\n"
    }
   }
  },
  {
   "cell_type": "code",
   "execution_count": 51,
   "outputs": [
    {
     "data": {
      "text/plain": "[]"
     },
     "execution_count": 51,
     "metadata": {},
     "output_type": "execute_result"
    }
   ],
   "source": [
    "numeric_columns = [column for column in df_result_symbol.columns if is_numeric_dtype(df_result_symbol[column])]\n",
    "df_change_symbol = pd.concat(\n",
    "    [df_result_symbol['symbol']] + [df_result_symbol[numeric_column].pct_change() for numeric_column in\n",
    "                                    numeric_columns], axis=1).dropna()\n",
    "df_change_symbol.index = df_change_symbol.index.strftime(\"%Y-%m-%d\")\n",
    "df_change_symbol.reset_index().to_dict('records')\n",
    "\n"
   ],
   "metadata": {
    "collapsed": false,
    "pycharm": {
     "name": "#%%\n"
    }
   }
  },
  {
   "cell_type": "code",
   "execution_count": 60,
   "outputs": [
    {
     "data": {
      "text/plain": "           symbol  cashAndCashEquivalents  shortTermInvestments  \\\ndate                                                              \n1999-10-31      A                     NaN                   NaN   \n2000-10-31      A                     inf                   NaN   \n2001-10-31      A                0.174699                   NaN   \n2002-10-31      A                0.576068                   NaN   \n2003-10-31      A               -0.128525                   NaN   \n2004-10-31      A                0.440572                   NaN   \n2005-10-31      A               -0.038445                   inf   \n2006-10-31      A                0.016173             -1.000000   \n2007-10-31      A               -0.192750                   NaN   \n2008-10-31      A               -0.230559                   inf   \n2009-10-31      A                0.764413             -0.416667   \n2010-10-31      A                0.068576             -1.000000   \n2011-10-31      A                0.331446                   NaN   \n2012-10-31      A               -0.333428                   NaN   \n2013-10-31      A                0.137814                   NaN   \n2014-10-31      A                0.131963                   NaN   \n2015-10-31      A               -0.338507                   NaN   \n2016-10-31      A                0.142786                   NaN   \n2017-10-31      A                0.169943                   NaN   \n2018-10-31      A               -0.160941                   NaN   \n2019-10-31      A               -0.384958                   NaN   \n2020-10-31      A                0.042692                   inf   \n2021-10-31      A                0.029840             -0.424051   \n\n            cashAndShortTermInvestments  netReceivables  inventory  \\\ndate                                                                 \n1999-10-31                          NaN        0.345679   0.009428   \n2000-10-31                          inf        0.346177   0.236157   \n2001-10-31                     0.174699       -0.556111  -0.195359   \n2002-10-31                     0.576068        0.145343  -0.205902   \n2003-10-31                    -0.128525       -0.029491  -0.159628   \n2004-10-31                     0.440572       -0.038674   0.031156   \n2005-10-31                    -0.027646       -0.278736  -0.296296   \n2006-10-31                     0.004887       -0.081009  -0.131579   \n2007-10-31                    -0.192750        0.062139   0.025518   \n2008-10-31                    -0.217415        0.047619   0.004666   \n2009-10-31                     0.744577       -0.227273  -0.145511   \n2010-10-31                     0.062575        0.460504   0.297101   \n2011-10-31                     0.331446       -0.010357   0.254190   \n2012-10-31                    -0.333428        0.073256   0.129176   \n2013-10-31                     0.137814       -0.026002   0.051282   \n2014-10-31                     0.131963        0.093437   0.005629   \n2015-10-31                    -0.338507       -0.383520  -0.495336   \n2016-10-31                     0.142786        0.041254  -0.014787   \n2017-10-31                     0.169943        0.147385   0.078799   \n2018-10-31                    -0.160941        0.071823   0.109565   \n2019-10-31                    -0.384958        0.198454   0.064263   \n2020-10-31                     0.157019        0.116129   0.060383   \n2021-10-31                    -0.015009        0.129094   0.152778   \n\n            otherCurrentAssets  totalCurrentAssets  propertyPlantEquipmentNet  \\\ndate                                                                            \n1999-10-31            0.077333            0.150569                  -0.063471   \n2000-10-31            0.497525            0.598361                   0.255227   \n2001-10-31            0.919008           -0.151370                   0.061459   \n2002-10-31           -0.368648            0.016879                  -0.145563   \n2003-10-31           -0.725784           -0.203074                  -0.083597   \n2004-10-31           -0.044776            0.176909                  -0.130615   \n2005-10-31            2.755208           -0.028403                  -0.306041   \n2006-10-31           -0.477115           -0.109962                  -0.112257   \n2007-10-31            0.238727           -0.072511                   0.033548   \n2008-10-31           -0.222698           -0.126124                   0.028714   \n2009-10-31           -0.115702            0.234726                   0.025485   \n2010-10-31            5.028037            0.557435                   0.159763   \n2011-10-31           -0.853230           -0.097260                   0.026531   \n2012-10-31            0.200704           -0.168792                   0.157058   \n2013-10-31            0.005865            0.076474                  -0.025773   \n2014-10-31            0.215743            0.103753                  -0.029101   \n2015-10-31            0.285372           -0.329818                  -0.451408   \n2016-10-31           -0.660448           -0.013836                   0.057947   \n2017-10-31            0.054945            0.146905                   0.184664   \n2018-10-31           -0.026042           -0.076997                   0.085865   \n2019-10-31            0.058824           -0.171258                   0.034063   \n2020-10-31           -0.707071            0.070869                  -0.005882   \n2021-10-31            2.827586            0.112445                   0.118343   \n\n            goodwill  ...  accumulatedOtherComprehensiveIncomeLoss  \\\ndate                  ...                                            \n1999-10-31       NaN  ...                                 0.106777   \n2000-10-31       NaN  ...                                -0.018062   \n2001-10-31       NaN  ...                                 0.021534   \n2002-10-31       NaN  ...                                -0.934563   \n2003-10-31       NaN  ...                                -0.959732   \n2004-10-31       NaN  ...                               -30.833333   \n2005-10-31       NaN  ...                                -1.273743   \n2006-10-31       inf  ...                                -1.591837   \n2007-10-31  0.911688  ...                                13.068966   \n2008-10-31 -0.122283  ...                                -1.436275   \n2009-10-31  0.013932  ...                                 0.039326   \n2010-10-31  1.222901  ...                                -0.524324   \n2011-10-31  0.076236  ...                                -2.318182   \n2012-10-31  0.930440  ...                                -1.956897   \n2013-10-31  0.007273  ...                                -1.819820   \n2014-10-31 -0.048572  ...                                -4.670330   \n2015-10-31 -0.183857  ...                                 0.170659   \n2016-10-31  0.063821  ...                                 0.286445   \n2017-10-31  0.035757  ...                                -0.312127   \n2018-10-31  0.140391  ...                                 0.179191   \n2019-10-31  0.208544  ...                                 0.259804   \n2020-10-31  0.002505  ...                                 0.015564   \n2021-10-31  0.103554  ...                                -0.459770   \n\n            othertotalStockholdersEquity  totalStockholdersEquity  \\\ndate                                                                \n1999-10-31                      0.113345                 0.119126   \n2000-10-31                      0.191926                 0.556771   \n2001-10-31                      0.039810                 0.074834   \n2002-10-31                     -0.304000                -0.182364   \n2003-10-31                      0.022989                -0.389669   \n2004-10-31                      0.042335                 0.263810   \n2005-10-31                      0.075650                 0.143458   \n2006-10-31                     -0.627774                -0.106101   \n2007-10-31                     -0.688462                -0.113487   \n2008-10-31                     -1.092593                -0.208720   \n2009-10-31                      0.250000                -0.020711   \n2010-10-31                      0.786667                 0.288109   \n2011-10-31                      1.014925                 0.334572   \n2012-10-31                     -0.192593                 0.202878   \n2013-10-31                      3.055046                 0.020069   \n2014-10-31                     -0.049774                 0.002270   \n2015-10-31                      0.225000                -0.213477   \n2016-10-31                      0.310982                 0.018239   \n2017-10-31                     -4.928836                 0.138581   \n2018-10-31                      0.001509                -0.054647   \n2019-10-31                     -0.005840                 0.039632   \n2020-10-31                      0.006443                 0.026327   \n2021-10-31                      0.001695                 0.105890   \n\n            totalLiabilitiesAndStockholdersEquity  minorityInterest  \\\ndate                                                                  \n1999-10-31                               0.091638               NaN   \n2000-10-31                               0.547575               NaN   \n2001-10-31                              -0.052107               NaN   \n2002-10-31                               0.027173               NaN   \n2003-10-31                              -0.232354               NaN   \n2004-10-31                               0.120534               NaN   \n2005-10-31                              -0.043226               NaN   \n2006-10-31                               0.089913               inf   \n2007-10-31                               0.026638         -1.000000   \n2008-10-31                              -0.015488               NaN   \n2009-10-31                               0.023531               NaN   \n2010-10-31                               0.272727               inf   \n2011-10-31                              -0.065958          0.000000   \n2012-10-31                               0.163996         -0.625000   \n2013-10-31                               0.014241          0.000000   \n2014-10-31                               0.013573          0.000000   \n2015-10-31                              -0.309568          0.000000   \n2016-10-31                               0.043205          0.000000   \n2017-10-31                               0.079882          0.333333   \n2018-10-31                               0.013655          0.000000   \n2019-10-31                               0.107181         -1.000000   \n2020-10-31                               0.018515               NaN   \n2021-10-31                               0.111977               NaN   \n\n            totalEquity  totalLiabilitiesAndTotalEquity  totalInvestments  \\\ndate                                                                        \n1999-10-31     0.119126                        0.091638               NaN   \n2000-10-31     0.556771                        0.547575               NaN   \n2001-10-31     0.074834                       -0.052107               NaN   \n2002-10-31    -0.182364                        0.027173               NaN   \n2003-10-31    -0.389669                       -0.232354               NaN   \n2004-10-31     0.263810                        0.120534               NaN   \n2005-10-31     0.143458                       -0.043226               NaN   \n2006-10-31    -0.103406                        0.091542               NaN   \n2007-10-31    -0.116152                        0.025105               NaN   \n2008-10-31    -0.208720                       -0.015488               NaN   \n2009-10-31    -0.020711                        0.023531               inf   \n2010-10-31     0.291301                        0.273778         -1.000000   \n2011-10-31     0.333745                       -0.065903               NaN   \n2012-10-31     0.201344                        0.163299               NaN   \n2013-10-31     0.020058                        0.014237               NaN   \n2014-10-31     0.002269                        0.013569               NaN   \n2015-10-31    -0.213356                       -0.309482               NaN   \n2016-10-31     0.018225                        0.043188               NaN   \n2017-10-31     0.138719                        0.079979               NaN   \n2018-10-31    -0.054602                        0.013648               NaN   \n2019-10-31     0.038722                        0.106662               NaN   \n2020-10-31     0.026327                        0.018515               inf   \n2021-10-31     0.105890                        0.111977         -0.126582   \n\n             totalDebt    netDebt  \ndate                               \n1999-10-31         NaN        NaN  \n2000-10-31         inf       -inf  \n2001-10-31   -0.945455   0.313770  \n2002-10-31  190.666667  -0.403780  \n2003-10-31    0.000000  -0.341499  \n2004-10-31    0.000000   1.549234  \n2005-10-31   -1.000000   0.910730  \n2006-10-31         inf  -0.657682  \n2007-10-31    0.391333  -1.342520  \n2008-10-31    0.018208   1.758621  \n2009-10-31    0.366588  -0.409722  \n2010-10-31    0.271006   1.451765  \n2011-10-31   -0.408020  -2.287908  \n2012-10-31    0.081007  -1.008197  \n2013-10-31    0.142676   1.181818  \n2014-10-31    0.023342 -12.083333  \n2015-10-31   -0.400797   0.308271  \n2016-10-31    0.155287   0.083333  \n2017-10-31    0.051778   0.769231  \n2018-10-31   -0.105420  -0.328336  \n2019-10-31    0.337966  -3.287946  \n2020-10-31   -0.019942  -0.104390  \n2021-10-31    0.156846   0.356209  \n\n[23 rows x 45 columns]",
      "text/html": "<div>\n<style scoped>\n    .dataframe tbody tr th:only-of-type {\n        vertical-align: middle;\n    }\n\n    .dataframe tbody tr th {\n        vertical-align: top;\n    }\n\n    .dataframe thead th {\n        text-align: right;\n    }\n</style>\n<table border=\"1\" class=\"dataframe\">\n  <thead>\n    <tr style=\"text-align: right;\">\n      <th></th>\n      <th>symbol</th>\n      <th>cashAndCashEquivalents</th>\n      <th>shortTermInvestments</th>\n      <th>cashAndShortTermInvestments</th>\n      <th>netReceivables</th>\n      <th>inventory</th>\n      <th>otherCurrentAssets</th>\n      <th>totalCurrentAssets</th>\n      <th>propertyPlantEquipmentNet</th>\n      <th>goodwill</th>\n      <th>...</th>\n      <th>accumulatedOtherComprehensiveIncomeLoss</th>\n      <th>othertotalStockholdersEquity</th>\n      <th>totalStockholdersEquity</th>\n      <th>totalLiabilitiesAndStockholdersEquity</th>\n      <th>minorityInterest</th>\n      <th>totalEquity</th>\n      <th>totalLiabilitiesAndTotalEquity</th>\n      <th>totalInvestments</th>\n      <th>totalDebt</th>\n      <th>netDebt</th>\n    </tr>\n    <tr>\n      <th>date</th>\n      <th></th>\n      <th></th>\n      <th></th>\n      <th></th>\n      <th></th>\n      <th></th>\n      <th></th>\n      <th></th>\n      <th></th>\n      <th></th>\n      <th></th>\n      <th></th>\n      <th></th>\n      <th></th>\n      <th></th>\n      <th></th>\n      <th></th>\n      <th></th>\n      <th></th>\n      <th></th>\n      <th></th>\n    </tr>\n  </thead>\n  <tbody>\n    <tr>\n      <th>1999-10-31</th>\n      <td>A</td>\n      <td>NaN</td>\n      <td>NaN</td>\n      <td>NaN</td>\n      <td>0.345679</td>\n      <td>0.009428</td>\n      <td>0.077333</td>\n      <td>0.150569</td>\n      <td>-0.063471</td>\n      <td>NaN</td>\n      <td>...</td>\n      <td>0.106777</td>\n      <td>0.113345</td>\n      <td>0.119126</td>\n      <td>0.091638</td>\n      <td>NaN</td>\n      <td>0.119126</td>\n      <td>0.091638</td>\n      <td>NaN</td>\n      <td>NaN</td>\n      <td>NaN</td>\n    </tr>\n    <tr>\n      <th>2000-10-31</th>\n      <td>A</td>\n      <td>inf</td>\n      <td>NaN</td>\n      <td>inf</td>\n      <td>0.346177</td>\n      <td>0.236157</td>\n      <td>0.497525</td>\n      <td>0.598361</td>\n      <td>0.255227</td>\n      <td>NaN</td>\n      <td>...</td>\n      <td>-0.018062</td>\n      <td>0.191926</td>\n      <td>0.556771</td>\n      <td>0.547575</td>\n      <td>NaN</td>\n      <td>0.556771</td>\n      <td>0.547575</td>\n      <td>NaN</td>\n      <td>inf</td>\n      <td>-inf</td>\n    </tr>\n    <tr>\n      <th>2001-10-31</th>\n      <td>A</td>\n      <td>0.174699</td>\n      <td>NaN</td>\n      <td>0.174699</td>\n      <td>-0.556111</td>\n      <td>-0.195359</td>\n      <td>0.919008</td>\n      <td>-0.151370</td>\n      <td>0.061459</td>\n      <td>NaN</td>\n      <td>...</td>\n      <td>0.021534</td>\n      <td>0.039810</td>\n      <td>0.074834</td>\n      <td>-0.052107</td>\n      <td>NaN</td>\n      <td>0.074834</td>\n      <td>-0.052107</td>\n      <td>NaN</td>\n      <td>-0.945455</td>\n      <td>0.313770</td>\n    </tr>\n    <tr>\n      <th>2002-10-31</th>\n      <td>A</td>\n      <td>0.576068</td>\n      <td>NaN</td>\n      <td>0.576068</td>\n      <td>0.145343</td>\n      <td>-0.205902</td>\n      <td>-0.368648</td>\n      <td>0.016879</td>\n      <td>-0.145563</td>\n      <td>NaN</td>\n      <td>...</td>\n      <td>-0.934563</td>\n      <td>-0.304000</td>\n      <td>-0.182364</td>\n      <td>0.027173</td>\n      <td>NaN</td>\n      <td>-0.182364</td>\n      <td>0.027173</td>\n      <td>NaN</td>\n      <td>190.666667</td>\n      <td>-0.403780</td>\n    </tr>\n    <tr>\n      <th>2003-10-31</th>\n      <td>A</td>\n      <td>-0.128525</td>\n      <td>NaN</td>\n      <td>-0.128525</td>\n      <td>-0.029491</td>\n      <td>-0.159628</td>\n      <td>-0.725784</td>\n      <td>-0.203074</td>\n      <td>-0.083597</td>\n      <td>NaN</td>\n      <td>...</td>\n      <td>-0.959732</td>\n      <td>0.022989</td>\n      <td>-0.389669</td>\n      <td>-0.232354</td>\n      <td>NaN</td>\n      <td>-0.389669</td>\n      <td>-0.232354</td>\n      <td>NaN</td>\n      <td>0.000000</td>\n      <td>-0.341499</td>\n    </tr>\n    <tr>\n      <th>2004-10-31</th>\n      <td>A</td>\n      <td>0.440572</td>\n      <td>NaN</td>\n      <td>0.440572</td>\n      <td>-0.038674</td>\n      <td>0.031156</td>\n      <td>-0.044776</td>\n      <td>0.176909</td>\n      <td>-0.130615</td>\n      <td>NaN</td>\n      <td>...</td>\n      <td>-30.833333</td>\n      <td>0.042335</td>\n      <td>0.263810</td>\n      <td>0.120534</td>\n      <td>NaN</td>\n      <td>0.263810</td>\n      <td>0.120534</td>\n      <td>NaN</td>\n      <td>0.000000</td>\n      <td>1.549234</td>\n    </tr>\n    <tr>\n      <th>2005-10-31</th>\n      <td>A</td>\n      <td>-0.038445</td>\n      <td>inf</td>\n      <td>-0.027646</td>\n      <td>-0.278736</td>\n      <td>-0.296296</td>\n      <td>2.755208</td>\n      <td>-0.028403</td>\n      <td>-0.306041</td>\n      <td>NaN</td>\n      <td>...</td>\n      <td>-1.273743</td>\n      <td>0.075650</td>\n      <td>0.143458</td>\n      <td>-0.043226</td>\n      <td>NaN</td>\n      <td>0.143458</td>\n      <td>-0.043226</td>\n      <td>NaN</td>\n      <td>-1.000000</td>\n      <td>0.910730</td>\n    </tr>\n    <tr>\n      <th>2006-10-31</th>\n      <td>A</td>\n      <td>0.016173</td>\n      <td>-1.000000</td>\n      <td>0.004887</td>\n      <td>-0.081009</td>\n      <td>-0.131579</td>\n      <td>-0.477115</td>\n      <td>-0.109962</td>\n      <td>-0.112257</td>\n      <td>inf</td>\n      <td>...</td>\n      <td>-1.591837</td>\n      <td>-0.627774</td>\n      <td>-0.106101</td>\n      <td>0.089913</td>\n      <td>inf</td>\n      <td>-0.103406</td>\n      <td>0.091542</td>\n      <td>NaN</td>\n      <td>inf</td>\n      <td>-0.657682</td>\n    </tr>\n    <tr>\n      <th>2007-10-31</th>\n      <td>A</td>\n      <td>-0.192750</td>\n      <td>NaN</td>\n      <td>-0.192750</td>\n      <td>0.062139</td>\n      <td>0.025518</td>\n      <td>0.238727</td>\n      <td>-0.072511</td>\n      <td>0.033548</td>\n      <td>0.911688</td>\n      <td>...</td>\n      <td>13.068966</td>\n      <td>-0.688462</td>\n      <td>-0.113487</td>\n      <td>0.026638</td>\n      <td>-1.000000</td>\n      <td>-0.116152</td>\n      <td>0.025105</td>\n      <td>NaN</td>\n      <td>0.391333</td>\n      <td>-1.342520</td>\n    </tr>\n    <tr>\n      <th>2008-10-31</th>\n      <td>A</td>\n      <td>-0.230559</td>\n      <td>inf</td>\n      <td>-0.217415</td>\n      <td>0.047619</td>\n      <td>0.004666</td>\n      <td>-0.222698</td>\n      <td>-0.126124</td>\n      <td>0.028714</td>\n      <td>-0.122283</td>\n      <td>...</td>\n      <td>-1.436275</td>\n      <td>-1.092593</td>\n      <td>-0.208720</td>\n      <td>-0.015488</td>\n      <td>NaN</td>\n      <td>-0.208720</td>\n      <td>-0.015488</td>\n      <td>NaN</td>\n      <td>0.018208</td>\n      <td>1.758621</td>\n    </tr>\n    <tr>\n      <th>2009-10-31</th>\n      <td>A</td>\n      <td>0.764413</td>\n      <td>-0.416667</td>\n      <td>0.744577</td>\n      <td>-0.227273</td>\n      <td>-0.145511</td>\n      <td>-0.115702</td>\n      <td>0.234726</td>\n      <td>0.025485</td>\n      <td>0.013932</td>\n      <td>...</td>\n      <td>0.039326</td>\n      <td>0.250000</td>\n      <td>-0.020711</td>\n      <td>0.023531</td>\n      <td>NaN</td>\n      <td>-0.020711</td>\n      <td>0.023531</td>\n      <td>inf</td>\n      <td>0.366588</td>\n      <td>-0.409722</td>\n    </tr>\n    <tr>\n      <th>2010-10-31</th>\n      <td>A</td>\n      <td>0.068576</td>\n      <td>-1.000000</td>\n      <td>0.062575</td>\n      <td>0.460504</td>\n      <td>0.297101</td>\n      <td>5.028037</td>\n      <td>0.557435</td>\n      <td>0.159763</td>\n      <td>1.222901</td>\n      <td>...</td>\n      <td>-0.524324</td>\n      <td>0.786667</td>\n      <td>0.288109</td>\n      <td>0.272727</td>\n      <td>inf</td>\n      <td>0.291301</td>\n      <td>0.273778</td>\n      <td>-1.000000</td>\n      <td>0.271006</td>\n      <td>1.451765</td>\n    </tr>\n    <tr>\n      <th>2011-10-31</th>\n      <td>A</td>\n      <td>0.331446</td>\n      <td>NaN</td>\n      <td>0.331446</td>\n      <td>-0.010357</td>\n      <td>0.254190</td>\n      <td>-0.853230</td>\n      <td>-0.097260</td>\n      <td>0.026531</td>\n      <td>0.076236</td>\n      <td>...</td>\n      <td>-2.318182</td>\n      <td>1.014925</td>\n      <td>0.334572</td>\n      <td>-0.065958</td>\n      <td>0.000000</td>\n      <td>0.333745</td>\n      <td>-0.065903</td>\n      <td>NaN</td>\n      <td>-0.408020</td>\n      <td>-2.287908</td>\n    </tr>\n    <tr>\n      <th>2012-10-31</th>\n      <td>A</td>\n      <td>-0.333428</td>\n      <td>NaN</td>\n      <td>-0.333428</td>\n      <td>0.073256</td>\n      <td>0.129176</td>\n      <td>0.200704</td>\n      <td>-0.168792</td>\n      <td>0.157058</td>\n      <td>0.930440</td>\n      <td>...</td>\n      <td>-1.956897</td>\n      <td>-0.192593</td>\n      <td>0.202878</td>\n      <td>0.163996</td>\n      <td>-0.625000</td>\n      <td>0.201344</td>\n      <td>0.163299</td>\n      <td>NaN</td>\n      <td>0.081007</td>\n      <td>-1.008197</td>\n    </tr>\n    <tr>\n      <th>2013-10-31</th>\n      <td>A</td>\n      <td>0.137814</td>\n      <td>NaN</td>\n      <td>0.137814</td>\n      <td>-0.026002</td>\n      <td>0.051282</td>\n      <td>0.005865</td>\n      <td>0.076474</td>\n      <td>-0.025773</td>\n      <td>0.007273</td>\n      <td>...</td>\n      <td>-1.819820</td>\n      <td>3.055046</td>\n      <td>0.020069</td>\n      <td>0.014241</td>\n      <td>0.000000</td>\n      <td>0.020058</td>\n      <td>0.014237</td>\n      <td>NaN</td>\n      <td>0.142676</td>\n      <td>1.181818</td>\n    </tr>\n    <tr>\n      <th>2014-10-31</th>\n      <td>A</td>\n      <td>0.131963</td>\n      <td>NaN</td>\n      <td>0.131963</td>\n      <td>0.093437</td>\n      <td>0.005629</td>\n      <td>0.215743</td>\n      <td>0.103753</td>\n      <td>-0.029101</td>\n      <td>-0.048572</td>\n      <td>...</td>\n      <td>-4.670330</td>\n      <td>-0.049774</td>\n      <td>0.002270</td>\n      <td>0.013573</td>\n      <td>0.000000</td>\n      <td>0.002269</td>\n      <td>0.013569</td>\n      <td>NaN</td>\n      <td>0.023342</td>\n      <td>-12.083333</td>\n    </tr>\n    <tr>\n      <th>2015-10-31</th>\n      <td>A</td>\n      <td>-0.338507</td>\n      <td>NaN</td>\n      <td>-0.338507</td>\n      <td>-0.383520</td>\n      <td>-0.495336</td>\n      <td>0.285372</td>\n      <td>-0.329818</td>\n      <td>-0.451408</td>\n      <td>-0.183857</td>\n      <td>...</td>\n      <td>0.170659</td>\n      <td>0.225000</td>\n      <td>-0.213477</td>\n      <td>-0.309568</td>\n      <td>0.000000</td>\n      <td>-0.213356</td>\n      <td>-0.309482</td>\n      <td>NaN</td>\n      <td>-0.400797</td>\n      <td>0.308271</td>\n    </tr>\n    <tr>\n      <th>2016-10-31</th>\n      <td>A</td>\n      <td>0.142786</td>\n      <td>NaN</td>\n      <td>0.142786</td>\n      <td>0.041254</td>\n      <td>-0.014787</td>\n      <td>-0.660448</td>\n      <td>-0.013836</td>\n      <td>0.057947</td>\n      <td>0.063821</td>\n      <td>...</td>\n      <td>0.286445</td>\n      <td>0.310982</td>\n      <td>0.018239</td>\n      <td>0.043205</td>\n      <td>0.000000</td>\n      <td>0.018225</td>\n      <td>0.043188</td>\n      <td>NaN</td>\n      <td>0.155287</td>\n      <td>0.083333</td>\n    </tr>\n    <tr>\n      <th>2017-10-31</th>\n      <td>A</td>\n      <td>0.169943</td>\n      <td>NaN</td>\n      <td>0.169943</td>\n      <td>0.147385</td>\n      <td>0.078799</td>\n      <td>0.054945</td>\n      <td>0.146905</td>\n      <td>0.184664</td>\n      <td>0.035757</td>\n      <td>...</td>\n      <td>-0.312127</td>\n      <td>-4.928836</td>\n      <td>0.138581</td>\n      <td>0.079882</td>\n      <td>0.333333</td>\n      <td>0.138719</td>\n      <td>0.079979</td>\n      <td>NaN</td>\n      <td>0.051778</td>\n      <td>0.769231</td>\n    </tr>\n    <tr>\n      <th>2018-10-31</th>\n      <td>A</td>\n      <td>-0.160941</td>\n      <td>NaN</td>\n      <td>-0.160941</td>\n      <td>0.071823</td>\n      <td>0.109565</td>\n      <td>-0.026042</td>\n      <td>-0.076997</td>\n      <td>0.085865</td>\n      <td>0.140391</td>\n      <td>...</td>\n      <td>0.179191</td>\n      <td>0.001509</td>\n      <td>-0.054647</td>\n      <td>0.013655</td>\n      <td>0.000000</td>\n      <td>-0.054602</td>\n      <td>0.013648</td>\n      <td>NaN</td>\n      <td>-0.105420</td>\n      <td>-0.328336</td>\n    </tr>\n    <tr>\n      <th>2019-10-31</th>\n      <td>A</td>\n      <td>-0.384958</td>\n      <td>NaN</td>\n      <td>-0.384958</td>\n      <td>0.198454</td>\n      <td>0.064263</td>\n      <td>0.058824</td>\n      <td>-0.171258</td>\n      <td>0.034063</td>\n      <td>0.208544</td>\n      <td>...</td>\n      <td>0.259804</td>\n      <td>-0.005840</td>\n      <td>0.039632</td>\n      <td>0.107181</td>\n      <td>-1.000000</td>\n      <td>0.038722</td>\n      <td>0.106662</td>\n      <td>NaN</td>\n      <td>0.337966</td>\n      <td>-3.287946</td>\n    </tr>\n    <tr>\n      <th>2020-10-31</th>\n      <td>A</td>\n      <td>0.042692</td>\n      <td>inf</td>\n      <td>0.157019</td>\n      <td>0.116129</td>\n      <td>0.060383</td>\n      <td>-0.707071</td>\n      <td>0.070869</td>\n      <td>-0.005882</td>\n      <td>0.002505</td>\n      <td>...</td>\n      <td>0.015564</td>\n      <td>0.006443</td>\n      <td>0.026327</td>\n      <td>0.018515</td>\n      <td>NaN</td>\n      <td>0.026327</td>\n      <td>0.018515</td>\n      <td>inf</td>\n      <td>-0.019942</td>\n      <td>-0.104390</td>\n    </tr>\n    <tr>\n      <th>2021-10-31</th>\n      <td>A</td>\n      <td>0.029840</td>\n      <td>-0.424051</td>\n      <td>-0.015009</td>\n      <td>0.129094</td>\n      <td>0.152778</td>\n      <td>2.827586</td>\n      <td>0.112445</td>\n      <td>0.118343</td>\n      <td>0.103554</td>\n      <td>...</td>\n      <td>-0.459770</td>\n      <td>0.001695</td>\n      <td>0.105890</td>\n      <td>0.111977</td>\n      <td>NaN</td>\n      <td>0.105890</td>\n      <td>0.111977</td>\n      <td>-0.126582</td>\n      <td>0.156846</td>\n      <td>0.356209</td>\n    </tr>\n  </tbody>\n</table>\n<p>23 rows × 45 columns</p>\n</div>"
     },
     "execution_count": 60,
     "metadata": {},
     "output_type": "execute_result"
    }
   ],
   "source": [
    "pd.concat(\n",
    "    [df_result_symbol['symbol']] + [df_result_symbol[numeric_column].pct_change() for numeric_column in\n",
    "                                    numeric_columns], axis=1).dropna(how=\"all\",axis=0,thresh=2)"
   ],
   "metadata": {
    "collapsed": false,
    "pycharm": {
     "name": "#%%\n"
    }
   }
  },
  {
   "cell_type": "code",
   "execution_count": 58,
   "outputs": [
    {
     "data": {
      "text/plain": "date\n1998-10-31         NaN\n1999-10-31    0.009428\n2000-10-31    0.236157\n2001-10-31   -0.195359\n2002-10-31   -0.205902\n2003-10-31   -0.159628\n2004-10-31    0.031156\n2005-10-31   -0.296296\n2006-10-31   -0.131579\n2007-10-31    0.025518\n2008-10-31    0.004666\n2009-10-31   -0.145511\n2010-10-31    0.297101\n2011-10-31    0.254190\n2012-10-31    0.129176\n2013-10-31    0.051282\n2014-10-31    0.005629\n2015-10-31   -0.495336\n2016-10-31   -0.014787\n2017-10-31    0.078799\n2018-10-31    0.109565\n2019-10-31    0.064263\n2020-10-31    0.060383\n2021-10-31    0.152778\nName: inventory, dtype: float64"
     },
     "execution_count": 58,
     "metadata": {},
     "output_type": "execute_result"
    }
   ],
   "source": [
    "df_result_symbol['inventory'].pct_change()"
   ],
   "metadata": {
    "collapsed": false,
    "pycharm": {
     "name": "#%%\n"
    }
   }
  },
  {
   "cell_type": "code",
   "execution_count": 84,
   "outputs": [],
   "source": [
    "symbols = df_result['symbol'].unique()\n",
    "symbol = 'A'\n",
    "resample_period = '6m'\n",
    "# for symbol in symbols:\n",
    "df_result_symbol = df_result[df_result['symbol'] == symbol].resample(resample_period).mean()\n",
    "df_result_symbol.dropna(inplace=True)\n",
    "result_dict_list = [{'symbol': symbol, 'date': date, 'adjClose': adjClose, 'changePercent': changePercent} for\n",
    "                    date, adjClose, changePercent in\n",
    "                    zip(list(df_result_symbol.index.strftime(\"%Y-%m-%d\")), df_result_symbol['adjClose'],\n",
    "                        df_result_symbol['changePercent'])]"
   ],
   "metadata": {
    "collapsed": false,
    "pycharm": {
     "name": "#%%\n"
    }
   }
  },
  {
   "cell_type": "code",
   "execution_count": 54,
   "outputs": [],
   "source": [
    "from core.db_interface import TableName\n",
    "\n",
    "table_name = \"weekly_price\"\n"
   ],
   "metadata": {
    "collapsed": false,
    "pycharm": {
     "name": "#%%\n"
    }
   }
  },
  {
   "cell_type": "code",
   "execution_count": 91,
   "outputs": [
    {
     "data": {
      "text/plain": "[{'date': Timestamp('1999-11-30 00:00:00'),\n  'adjClose': 25.8214,\n  'changePercent': -15.979},\n {'date': Timestamp('2000-05-31 00:00:00'),\n  'adjClose': 50.98834047619047,\n  'changePercent': -13.771642857142856},\n {'date': Timestamp('2000-11-30 00:00:00'),\n  'adjClose': 33.75073720930232,\n  'changePercent': -15.00706976744186},\n {'date': Timestamp('2001-05-31 00:00:00'),\n  'adjClose': 27.09636097560976,\n  'changePercent': -14.392658536585367},\n {'date': Timestamp('2001-11-30 00:00:00'),\n  'adjClose': 16.465260975609755,\n  'changePercent': -13.020365853658538},\n {'date': Timestamp('2002-05-31 00:00:00'),\n  'adjClose': 18.756057142857145,\n  'changePercent': -14.48995238095238},\n {'date': Timestamp('2002-11-30 00:00:00'),\n  'adjClose': 10.597185476190477,\n  'changePercent': -13.418690476190477},\n {'date': Timestamp('2003-05-31 00:00:00'),\n  'adjClose': 9.587880975609757,\n  'changePercent': -14.323243902439025},\n {'date': Timestamp('2003-11-30 00:00:00'),\n  'adjClose': 14.100976744186045,\n  'changePercent': -13.713023255813953},\n {'date': Timestamp('2004-05-31 00:00:00'),\n  'adjClose': 18.877056097560974,\n  'changePercent': -14.284853658536585},\n {'date': Timestamp('2004-11-30 00:00:00'),\n  'adjClose': 14.67632093023256,\n  'changePercent': -14.130139534883721},\n {'date': Timestamp('2005-05-31 00:00:00'),\n  'adjClose': 13.968221951219512,\n  'changePercent': -14.028780487804877},\n {'date': Timestamp('2005-11-30 00:00:00'),\n  'adjClose': 18.070330232558142,\n  'changePercent': -13.934697674418604},\n {'date': Timestamp('2006-05-31 00:00:00'),\n  'adjClose': 22.09839024390244,\n  'changePercent': -14.043439024390242},\n {'date': Timestamp('2006-11-30 00:00:00'),\n  'adjClose': 19.801067441860468,\n  'changePercent': -13.054046511627906},\n {'date': Timestamp('2007-05-31 00:00:00'),\n  'adjClose': 22.17990487804878,\n  'changePercent': -8.614512195121952},\n {'date': Timestamp('2007-11-30 00:00:00'),\n  'adjClose': 24.260632558139537,\n  'changePercent': -8.645976744186045},\n {'date': Timestamp('2008-05-31 00:00:00'),\n  'adjClose': 21.625195121951222,\n  'changePercent': -8.572829268292683},\n {'date': Timestamp('2008-11-30 00:00:00'),\n  'adjClose': 20.0152,\n  'changePercent': -9.496738095238095},\n {'date': Timestamp('2009-05-31 00:00:00'),\n  'adjClose': 11.010673333333333,\n  'changePercent': -8.526714285714286},\n {'date': Timestamp('2009-11-30 00:00:00'),\n  'adjClose': 15.919564285714287,\n  'changePercent': -8.786833333333332},\n {'date': Timestamp('2010-05-31 00:00:00'),\n  'adjClose': 20.92345,\n  'changePercent': -8.760714285714286},\n {'date': Timestamp('2010-11-30 00:00:00'),\n  'adjClose': 20.319857142857142,\n  'changePercent': -9.113857142857142},\n {'date': Timestamp('2011-05-31 00:00:00'),\n  'adjClose': 28.820914285714284,\n  'changePercent': -8.878857142857143},\n {'date': Timestamp('2011-11-30 00:00:00'),\n  'adjClose': 25.60238372093023,\n  'changePercent': -8.539581395348836},\n {'date': Timestamp('2012-05-31 00:00:00'),\n  'adjClose': 26.84868780487805,\n  'changePercent': -8.788243902439024},\n {'date': Timestamp('2012-11-30 00:00:00'),\n  'adjClose': 24.967669047619047,\n  'changePercent': -8.338095238095239},\n {'date': Timestamp('2013-05-31 00:00:00'),\n  'adjClose': 28.001666666666665,\n  'changePercent': -7.966809523809523},\n {'date': Timestamp('2013-11-30 00:00:00'),\n  'adjClose': 31.94885,\n  'changePercent': -7.286785714285715},\n {'date': Timestamp('2014-05-31 00:00:00'),\n  'adjClose': 37.57351219512195,\n  'changePercent': -6.894536585365853},\n {'date': Timestamp('2014-11-30 00:00:00'),\n  'adjClose': 38.123830232558134,\n  'changePercent': -6.278720930232558},\n {'date': Timestamp('2015-05-31 00:00:00'),\n  'adjClose': 38.702143902439026,\n  'changePercent': -5.900365853658537},\n {'date': Timestamp('2015-11-30 00:00:00'),\n  'adjClose': 36.024125581395346,\n  'changePercent': -5.699697674418604},\n {'date': Timestamp('2016-05-31 00:00:00'),\n  'adjClose': 37.894492682926824,\n  'changePercent': -4.931585365853659},\n {'date': Timestamp('2016-11-30 00:00:00'),\n  'adjClose': 43.831109302325586,\n  'changePercent': -4.6629069767441855},\n {'date': Timestamp('2017-05-31 00:00:00'),\n  'adjClose': 49.19211219512195,\n  'changePercent': -3.9307073170731703},\n {'date': Timestamp('2017-11-30 00:00:00'),\n  'adjClose': 61.28873488372093,\n  'changePercent': -3.637325581395349},\n {'date': Timestamp('2018-05-31 00:00:00'),\n  'adjClose': 65.85086097560975,\n  'changePercent': -3.4823414634146346},\n {'date': Timestamp('2018-11-30 00:00:00'),\n  'adjClose': 64.27738372093023,\n  'changePercent': -2.5522325581395346},\n {'date': Timestamp('2019-05-31 00:00:00'),\n  'adjClose': 73.0057487804878,\n  'changePercent': -2.264170731707317},\n {'date': Timestamp('2019-11-30 00:00:00'),\n  'adjClose': 71.90014761904762,\n  'changePercent': -1.9295714285714287},\n {'date': Timestamp('2020-05-31 00:00:00'),\n  'adjClose': 79.06466428571429,\n  'changePercent': -1.2522142857142857},\n {'date': Timestamp('2020-11-30 00:00:00'),\n  'adjClose': 97.61235714285715,\n  'changePercent': -1.3088809523809524},\n {'date': Timestamp('2021-05-31 00:00:00'),\n  'adjClose': 124.73211904761904,\n  'changePercent': -0.5006666666666666},\n {'date': Timestamp('2021-11-30 00:00:00'),\n  'adjClose': 156.36159523809525,\n  'changePercent': -0.40957142857142853},\n {'date': Timestamp('2022-05-31 00:00:00'),\n  'adjClose': 136.1732380952381,\n  'changePercent': -0.18321428571428575},\n {'date': Timestamp('2022-11-30 00:00:00'),\n  'adjClose': 126.78458333333333,\n  'changePercent': 0.7155416666666666}]"
     },
     "execution_count": 91,
     "metadata": {},
     "output_type": "execute_result"
    }
   ],
   "source": [
    "df_result_symbol.reset_index().to_dict('records')"
   ],
   "metadata": {
    "collapsed": false,
    "pycharm": {
     "name": "#%%\n"
    }
   }
  },
  {
   "cell_type": "markdown",
   "source": [],
   "metadata": {
    "collapsed": false,
    "pycharm": {
     "name": "#%% md\n"
    }
   }
  },
  {
   "cell_type": "code",
   "execution_count": 58,
   "outputs": [],
   "source": [
    "columns = [Column(column.name, column.type, primary_key=column.primary_key, index=column.index) for column in\n",
    "           daily_price_table.c]\n",
    "table = Table(table_name, meta, *columns, extend_existing=True)"
   ],
   "metadata": {
    "collapsed": false,
    "pycharm": {
     "name": "#%%\n"
    }
   }
  },
  {
   "cell_type": "code",
   "execution_count": 60,
   "outputs": [
    {
     "data": {
      "text/plain": "<sqlalchemy.engine.cursor.LegacyCursorResult at 0x24ea12726b0>"
     },
     "execution_count": 60,
     "metadata": {},
     "output_type": "execute_result"
    }
   ],
   "source": [
    "from sqlalchemy.dialects.mysql import insert\n",
    "\n",
    "stmt = insert(table).values(result_dict_list)\n",
    "update_dict = {x.name: x for x in stmt.inserted}\n",
    "on_duplicate_key_stmt = stmt.on_duplicate_key_update(update_dict)\n",
    "conn.execute(statement=on_duplicate_key_stmt)"
   ],
   "metadata": {
    "collapsed": false,
    "pycharm": {
     "name": "#%%\n"
    }
   }
  },
  {
   "cell_type": "code",
   "execution_count": 71,
   "outputs": [
    {
     "name": "stdout",
     "output_type": "stream",
     "text": [
      "2022-09-18\n"
     ]
    }
   ],
   "source": [
    "sql_query = f\"SELECT date FROM {table_name} where symbol = '{symbol}' order by date desc limit 1;\"\n",
    "result = conn.execute(sql_query).fetchall()\n",
    "if result:\n",
    "    print(result[0][0])\n",
    "\n"
   ],
   "metadata": {
    "collapsed": false,
    "pycharm": {
     "name": "#%%\n"
    }
   }
  },
  {
   "cell_type": "code",
   "execution_count": 72,
   "outputs": [
    {
     "data": {
      "text/plain": "datetime.date"
     },
     "execution_count": 72,
     "metadata": {},
     "output_type": "execute_result"
    }
   ],
   "source": [
    "type(result[0][0])"
   ],
   "metadata": {
    "collapsed": false,
    "pycharm": {
     "name": "#%%\n"
    }
   }
  },
  {
   "cell_type": "code",
   "execution_count": 73,
   "outputs": [
    {
     "data": {
      "text/plain": "False"
     },
     "execution_count": 73,
     "metadata": {},
     "output_type": "execute_result"
    }
   ],
   "source": [
    "a_dict = {'a': 1, 'b': 2}\n",
    "None in a_dict.keys()"
   ],
   "metadata": {
    "collapsed": false,
    "pycharm": {
     "name": "#%%\n"
    }
   }
  },
  {
   "cell_type": "code",
   "execution_count": 78,
   "outputs": [
    {
     "data": {
      "text/plain": "datetime.date(2019, 1, 2)"
     },
     "execution_count": 78,
     "metadata": {},
     "output_type": "execute_result"
    }
   ],
   "source": [
    "from datetime import datetime\n",
    "\n",
    "a_date = datetime.strptime('2019-01-02', '%Y-%m-%d').date()\n",
    "a_date"
   ],
   "metadata": {
    "collapsed": false,
    "pycharm": {
     "name": "#%%\n"
    }
   }
  },
  {
   "cell_type": "code",
   "execution_count": 83,
   "outputs": [
    {
     "ename": "TypeError",
     "evalue": "unsupported type for timedelta days component: str",
     "output_type": "error",
     "traceback": [
      "\u001B[1;31m---------------------------------------------------------------------------\u001B[0m",
      "\u001B[1;31mTypeError\u001B[0m                                 Traceback (most recent call last)",
      "Input \u001B[1;32mIn [83]\u001B[0m, in \u001B[0;36m<cell line: 2>\u001B[1;34m()\u001B[0m\n\u001B[0;32m      1\u001B[0m \u001B[38;5;28;01mimport\u001B[39;00m \u001B[38;5;21;01mdatetime\u001B[39;00m\n\u001B[1;32m----> 2\u001B[0m a_date \u001B[38;5;241m-\u001B[39m a_date \u001B[38;5;241m<\u001B[39m \u001B[43mdatetime\u001B[49m\u001B[38;5;241;43m.\u001B[39;49m\u001B[43mtimedelta\u001B[49m\u001B[43m(\u001B[49m\u001B[43mdays\u001B[49m\u001B[38;5;241;43m=\u001B[39;49m\u001B[38;5;124;43m'\u001B[39;49m\u001B[38;5;124;43m1w\u001B[39;49m\u001B[38;5;124;43m'\u001B[39;49m\u001B[43m)\u001B[49m\n",
      "\u001B[1;31mTypeError\u001B[0m: unsupported type for timedelta days component: str"
     ]
    }
   ],
   "source": [
    "import datetime\n",
    "\n",
    "a_date - a_date < datetime.timedelta(days='1w')"
   ],
   "metadata": {
    "collapsed": false,
    "pycharm": {
     "name": "#%%\n"
    }
   }
  }
 ],
 "metadata": {
  "kernelspec": {
   "display_name": "Python 3",
   "language": "python",
   "name": "python3"
  },
  "language_info": {
   "codemirror_mode": {
    "name": "ipython",
    "version": 2
   },
   "file_extension": ".py",
   "mimetype": "text/x-python",
   "name": "python",
   "nbconvert_exporter": "python",
   "pygments_lexer": "ipython2",
   "version": "2.7.6"
  }
 },
 "nbformat": 4,
 "nbformat_minor": 0
}