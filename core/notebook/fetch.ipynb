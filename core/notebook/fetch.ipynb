{
 "cells": [
  {
   "cell_type": "code",
   "execution_count": null,
   "outputs": [],
   "source": [
    "import os\n",
    "from dotenv import load_dotenv\n",
    "from sqlalchemy import create_engine, MetaData, Table, Column, Integer, String\n",
    "import pandas as pd\n",
    "from core.constants import TableKey, TableName\n",
    "\n",
    "load_dotenv()\n",
    "user_name = os.environ.get(\"sql_user\")\n",
    "password = os.environ.get(\"sql_password\")\n",
    "db_name = os.environ.get(\"sql_db_name\")\n",
    "sql_ip = os.environ.get(\"sql_ip\")\n",
    "sql_port = os.environ.get(\"sql_port\")\n",
    "\n",
    "db_url = f\"mariadb+mariadbconnector://{user_name}:{password}@{sql_ip}:{sql_port}/\"f\"{db_name}\"\n",
    "\n",
    "engine = create_engine(db_url, pool_pre_ping=True, pool_recycle=3600)\n",
    "\n",
    "conn = engine.connect()\n",
    "meta = MetaData()\n",
    "meta.reflect(conn)\n",
    "meta.tables"
   ],
   "metadata": {
    "collapsed": false,
    "pycharm": {
     "name": "#%%\n"
    }
   }
  },
  {
   "cell_type": "code",
   "execution_count": null,
   "outputs": [],
   "source": [
    "from sqlalchemy import inspect\n",
    "inspector = inspect(engine)\n",
    "\n",
    "for table_name in inspector.get_table_names():\n",
    "   for column in inspector.get_columns(table_name):\n",
    "       print(\"Column: %s\" % column['name'])"
   ],
   "metadata": {
    "collapsed": false,
    "pycharm": {
     "name": "#%%\n"
    }
   }
  },
  {
   "cell_type": "code",
   "execution_count": null,
   "outputs": [],
   "source": [
    "from core.constants import TableKey, TableName\n",
    "\n",
    "df = pd.read_csv('../data/company-profile-20220827.csv')\n",
    "\n",
    "from sqlalchemy import types\n",
    "\n",
    "column_types = {TableKey.Profile.SYMBOL: types.NVARCHAR(20),\n",
    "                TableKey.Profile.SECTOR: types.NVARCHAR(40),\n",
    "                TableKey.Profile.INDUSTRY: types.TEXT,\n",
    "                TableKey.Profile.NAME: types.TEXT}\n",
    "\n",
    "columns = (Column(k, v) for k, v in column_types.items())\n",
    "table = Table(TableName.PROFILE, meta, *columns, extend_existing=True)\n",
    "meta.create_all(engine, )\n",
    "\n",
    "try:\n",
    "    sql = f'alter table {TableName.PROFILE} add primary key({TableKey.Profile.SYMBOL})'\n",
    "    conn.execute(sql)\n",
    "except:\n",
    "    print(\"Aleardy PK defined.\")\n",
    "\n",
    "from sqlalchemy.dialects.mysql import insert\n",
    "\n",
    "stmt = insert(table).values([df.iloc[i][list(column_types.keys())].to_dict() for i in range(len(df))])\n",
    "update_dict = {x.name: x for x in stmt.inserted}\n",
    "\n",
    "on_duplicate_key_stmt = stmt.on_duplicate_key_update(update_dict)\n",
    "conn.execute(statement=on_duplicate_key_stmt)\n"
   ],
   "metadata": {
    "collapsed": false,
    "pycharm": {
     "name": "#%%\n"
    }
   }
  },
  {
   "cell_type": "code",
   "execution_count": null,
   "outputs": [],
   "source": [
    "# https://lowelllll.github.io/til/2019/04/19/TIL-flask-sqlalchemy-orm/\n",
    "# result = db.session.execute('SELECT * FROM my_table WHERE my_column = :val', {'val': 5})\n",
    "sql = f\"select {TableKey.Profile.SYMBOL} from {TableName.PROFILE} WHERE {TableKey.Profile.SECTOR} = 'Industrials';\"\n",
    "result = conn.execute(sql)"
   ],
   "metadata": {
    "collapsed": false,
    "pycharm": {
     "name": "#%%\n"
    }
   }
  },
  {
   "cell_type": "code",
   "execution_count": null,
   "outputs": [],
   "source": [
    "from dotenv import load_dotenv\n",
    "import fmpsdk\n",
    "import pandas as pd\n",
    "from tqdm import tqdm\n",
    "import os\n",
    "\n",
    "load_dotenv()\n",
    "\n",
    "apikey = os.environ.get(\"apikey\")"
   ],
   "metadata": {
    "collapsed": false,
    "pycharm": {
     "name": "#%%\n"
    }
   }
  },
  {
   "cell_type": "code",
   "execution_count": 24,
   "outputs": [],
   "source": [
    "# https://lowelllll.github.io/til/2019/04/19/TIL-flask-sqlalchemy-orm/\n",
    "# result = db.session.execute('SELECT * FROM my_table WHERE my_column = :val', {'val': 5})\n",
    "sql = f\"select {TableKey.Profile.SYMBOL} from {TableName.PROFILE} WHERE {TableKey.Profile.SECTOR} = 'Industrials';\"\n",
    "result = conn.execute(sql)"
   ],
   "metadata": {
    "collapsed": false,
    "pycharm": {
     "name": "#%%\n"
    }
   }
  },
  {
   "cell_type": "code",
   "execution_count": null,
   "outputs": [],
   "source": [
    "from dotenv import load_dotenv\n",
    "import fmpsdk\n",
    "import pandas as pd\n",
    "from tqdm import tqdm\n",
    "import os\n",
    "\n",
    "load_dotenv()\n",
    "\n",
    "apikey = os.environ.get(\"apikey\")"
   ],
   "metadata": {
    "collapsed": false,
    "pycharm": {
     "name": "#%%\n"
    }
   }
  }
 ],
 "metadata": {
  "kernelspec": {
   "display_name": "Python 3",
   "language": "python",
   "name": "python3"
  },
  "language_info": {
   "codemirror_mode": {
    "name": "ipython",
    "version": 2
   },
   "file_extension": ".py",
   "mimetype": "text/x-python",
   "name": "python",
   "nbconvert_exporter": "python",
   "pygments_lexer": "ipython2",
   "version": "2.7.6"
  }
 },
 "nbformat": 4,
 "nbformat_minor": 0
}