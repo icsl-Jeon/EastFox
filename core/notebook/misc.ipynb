{
 "cells": [
  {
   "cell_type": "code",
   "execution_count": null,
   "metadata": {
    "collapsed": true,
    "pycharm": {
     "name": "#%%\n"
    }
   },
   "outputs": [],
   "source": [
    "SECTOR_COLOR_MAP = {'Basic Materials': (0.0949778838058352, 0.06254211781552795, 0.15417987083084048),\n",
    "                    'Communication Services': (0.09641540616370546, 0.17728671859553138, 0.28347363185399654),\n",
    "                    'Services': (0.09641540616370546, 0.17728671859553138, 0.28347363185399654),\n",
    "                    'Consumer Cyclical': (0.08523511613408935, 0.32661779003565533, 0.2973201282529313),\n",
    "                    'Consumer Defensive': (0.17004232121057958, 0.43679759647517286, 0.22372555555555548),\n",
    "                    'Energy': (0.37510867095095474, 0.47935988952053404, 0.18482861741555928),\n",
    "                    'Financial Services': (0.6328422475018423, 0.4747981096220677, 0.29070209208025455),\n",
    "                    'Healthcare': (0.7984646490425262, 0.48658654436309784, 0.5244405422521965),\n",
    "                    'Industrials': (0.8299576787894204, 0.5632024035248271, 0.7762744444444445),\n",
    "                    'Real Estate': (0.7779565181455343, 0.7069421942599752, 0.9314406084043191),\n",
    "                    'Technology': (0.7632674462838152, 0.850242277575182, 0.9515539762051686),\n",
    "                    'Utilities': (0.8510181086946101, 0.9480529957653149, 0.9362754507718345)}\n",
    "sectors = list(SECTOR_COLOR_MAP.keys())\n",
    "sector_constant_list = [('' + sector_key.upper().replace(\" \", \"_\") + '=\\'' + sector_key + '\\'')\n",
    "                        for\n",
    "                        sector_key in\n",
    "                        sectors]\n",
    "\n",
    "# with open(\"sector_constant.txt\", \"a\") as f:\n",
    "#     print(*sector_constant_list, sep=\"\\n\", file=f)\n",
    "\n",
    "print(*sector_constant_list, sep=\"\\n\",)"
   ]
  }
 ],
 "metadata": {
  "kernelspec": {
   "display_name": "Python 3",
   "language": "python",
   "name": "python3"
  },
  "language_info": {
   "codemirror_mode": {
    "name": "ipython",
    "version": 2
   },
   "file_extension": ".py",
   "mimetype": "text/x-python",
   "name": "python",
   "nbconvert_exporter": "python",
   "pygments_lexer": "ipython2",
   "version": "2.7.6"
  }
 },
 "nbformat": 4,
 "nbformat_minor": 0
}