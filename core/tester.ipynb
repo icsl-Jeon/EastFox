{
 "cells": [
  {
   "cell_type": "code",
   "execution_count": 14,
   "outputs": [],
   "source": [
    "from dotenv import load_dotenv\n",
    "import fmpsdk\n",
    "import pandas as pd\n",
    "import os\n",
    "\n",
    "load_dotenv()\n",
    "apikey = os.environ.get(\"apikey\")\n",
    "snp500 = pd.DataFrame(fmpsdk.sp500_constituent(apikey))\n",
    "\n",
    "PBR_KEY = 'priceBookValueRatio'\n",
    "\n",
    "from fetch import Fetcher\n",
    "\n",
    "file_directories = ['financial-ratios-quarter-20220820.csv']\n",
    "key_list = [PBR_KEY]\n",
    "key = key_list[0]\n",
    "\n",
    "fetcher = Fetcher()\n",
    "fetcher.register(key_list=key_list, csv_file_directory=file_directories[0])\n",
    "from strategy import *\n",
    "\n",
    "selector_small_pbr = Selector(type=SelectorType.HORIZON_RANGE, key=PBR_KEY, value=(0.0, 2.0), horizon=4)\n",
    "selector_sequence = SelectorSequence(selectors=[selector_small_pbr])\n",
    "filter_small_pbr = Filter(selector_sequence_union=[selector_sequence])\n",
    "\n",
    "selector_large_pbr = Selector(type=SelectorType.HORIZON_RANGE, key=PBR_KEY, value=(3.0, 100.0), horizon=4)\n",
    "selector_sequence = SelectorSequence(selectors=[selector_large_pbr])\n",
    "filter_large_pbr = Filter(selector_sequence_union=[selector_sequence])\n"
   ],
   "metadata": {
    "collapsed": false,
    "pycharm": {
     "name": "#%%\n"
    }
   }
  },
  {
   "cell_type": "code",
   "execution_count": 18,
   "outputs": [],
   "source": [
    "initial_holdings = [Asset(symbol=symbol) for symbol in snp500['symbol']]\n",
    "start_date = '2017-03-01'\n",
    "end_date = '2019-03-01'\n",
    "rebalance_dates = ['2018-03-06', '2018-09-06']\n",
    "\n",
    "filter_list = dict.fromkeys(['small-pbr', 'large-pbr'])\n",
    "filter_list['small-pbr'] = filter_small_pbr\n",
    "filter_list['large-pbr'] = filter_large_pbr\n",
    "\n",
    "strategist_list = []\n",
    "for key in filter_list.keys():\n",
    "    filter_ = filter_list[key]\n",
    "    strategist = Strategist(fetcher=fetcher, asset_pool=initial_holdings, start_date=start_date, end_date=end_date)\n",
    "    for rebalance_date in rebalance_dates:\n",
    "        strategist.select_assets(filter=filter_, rebalance_date=rebalance_date)\n",
    "    strategist_list.append(strategist)"
   ],
   "metadata": {
    "collapsed": false,
    "pycharm": {
     "name": "#%%\n"
    }
   }
  },
  {
   "cell_type": "code",
   "execution_count": 19,
   "outputs": [],
   "source": [
    "from analyze import Analyst\n",
    "\n",
    "analyst = Analyst()\n",
    "analyst.register(table_name='price_list', csv_file_directory='snp500_price_list_19620102_20220814.csv')\n",
    "analyst.register(table_name='economic_indicators', csv_file_directory='snp500_price_list_19620102_20220814.csv')\n",
    "\n",
    "analyst.attach('small-pbr', strategist_list[0])\n",
    "analyst.attach('large-pbr', strategist_list[1])"
   ],
   "metadata": {
    "collapsed": false,
    "pycharm": {
     "name": "#%%\n"
    }
   }
  }
 ],
 "metadata": {
  "kernelspec": {
   "display_name": "Python 3.10.4 ('django')",
   "language": "python",
   "name": "python3"
  },
  "language_info": {
   "codemirror_mode": {
    "name": "ipython",
    "version": 3
   },
   "file_extension": ".py",
   "mimetype": "text/x-python",
   "name": "python",
   "nbconvert_exporter": "python",
   "pygments_lexer": "ipython3",
   "version": "3.10.4"
  },
  "orig_nbformat": 4,
  "vscode": {
   "interpreter": {
    "hash": "9dca059c2cfd48b5b215bc81a5bfcbd3e92e2946ff192efe0cd3114a3f5aa30b"
   }
  }
 },
 "nbformat": 4,
 "nbformat_minor": 2
}