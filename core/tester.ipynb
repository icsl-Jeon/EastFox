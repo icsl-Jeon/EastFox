{
 "cells": [
  {
   "cell_type": "code",
   "execution_count": 1,
   "metadata": {},
   "outputs": [],
   "source": [
    "from dotenv import load_dotenv\n",
    "import fmpsdk\n",
    "import pandas as pd\n",
    "\n",
    "load_dotenv()\n",
    "apikey = os.environ.get(\"apikey\")\n",
    "\n",
    "snp500 = pd.DataFrame(fmpsdk.sp500_constituent(apikey))"
   ]
  },
  {
   "cell_type": "code",
   "execution_count": 2,
   "metadata": {},
   "outputs": [],
   "source": [
    "from strategy import *\n",
    "\n",
    "initial_holdings = [Holding(symbol = symbol) for symbol in snp500['symbol']]\n",
    "start_date = '2017-03-01'\n",
    "end_date = '2019-03-01'\n",
    "strategist = Strategist(database_list=[], initial_holdings=initial_holdings, start_date=start_date, end_date=end_date)\n",
    "\n",
    "filter_1  = Filter(selector_sequence_union=[]) \n",
    "strategist.apply_filter(filter = filter_1, date = '2018-03-01')"
   ]
  },
  {
   "cell_type": "code",
   "execution_count": 3,
   "metadata": {},
   "outputs": [
    {
     "data": {
      "text/plain": [
       "[Segment(start_date='2018-03-01', end_date='2019-03-01', holdings=[]),\n",
       " Segment(start_date='2017-03-01', end_date='2018-03-01', holdings=[Holding(symbol='MMM'), Holding(symbol='AOS'), Holding(symbol='ABT'), Holding(symbol='ABBV'), Holding(symbol='ABMD'), Holding(symbol='ACN'), Holding(symbol='ATVI'), Holding(symbol='ADM'), Holding(symbol='ADBE'), Holding(symbol='ADP'), Holding(symbol='AAP'), Holding(symbol='AES'), Holding(symbol='AFL'), Holding(symbol='A'), Holding(symbol='APD'), Holding(symbol='AKAM'), Holding(symbol='ALK'), Holding(symbol='ALB'), Holding(symbol='ARE'), Holding(symbol='ALGN'), Holding(symbol='ALLE'), Holding(symbol='LNT'), Holding(symbol='ALL'), Holding(symbol='GOOGL'), Holding(symbol='GOOG'), Holding(symbol='MO'), Holding(symbol='AMZN'), Holding(symbol='AMCR'), Holding(symbol='AMD'), Holding(symbol='AEE'), Holding(symbol='AAL'), Holding(symbol='AEP'), Holding(symbol='AXP'), Holding(symbol='AIG'), Holding(symbol='AMT'), Holding(symbol='AWK'), Holding(symbol='AMP'), Holding(symbol='ABC'), Holding(symbol='AME'), Holding(symbol='AMGN'), Holding(symbol='APH'), Holding(symbol='ADI'), Holding(symbol='ANSS'), Holding(symbol='AON'), Holding(symbol='APA'), Holding(symbol='AAPL'), Holding(symbol='AMAT'), Holding(symbol='APTV'), Holding(symbol='ANET'), Holding(symbol='AJG'), Holding(symbol='AIZ'), Holding(symbol='T'), Holding(symbol='ATO'), Holding(symbol='ADSK'), Holding(symbol='AZO'), Holding(symbol='AVB'), Holding(symbol='AVY'), Holding(symbol='BKR'), Holding(symbol='BALL'), Holding(symbol='BAC'), Holding(symbol='BBWI'), Holding(symbol='BAX'), Holding(symbol='BDX'), Holding(symbol='WRB'), Holding(symbol='BRK-B'), Holding(symbol='BBY'), Holding(symbol='BIO'), Holding(symbol='TECH'), Holding(symbol='BIIB'), Holding(symbol='BLK'), Holding(symbol='BK'), Holding(symbol='BA'), Holding(symbol='BKNG'), Holding(symbol='BWA'), Holding(symbol='BXP'), Holding(symbol='BSX'), Holding(symbol='BMY'), Holding(symbol='AVGO'), Holding(symbol='BR'), Holding(symbol='BRO'), Holding(symbol='BF-B'), Holding(symbol='CHRW'), Holding(symbol='CDNS'), Holding(symbol='CZR'), Holding(symbol='CPT'), Holding(symbol='CPB'), Holding(symbol='COF'), Holding(symbol='CAH'), Holding(symbol='KMX'), Holding(symbol='CCL'), Holding(symbol='CARR'), Holding(symbol='CTLT'), Holding(symbol='CAT'), Holding(symbol='CBOE'), Holding(symbol='CBRE'), Holding(symbol='CDW'), Holding(symbol='CE'), Holding(symbol='CNC'), Holding(symbol='CNP'), Holding(symbol='CDAY'), Holding(symbol='CF'), Holding(symbol='CRL'), Holding(symbol='SCHW'), Holding(symbol='CHTR'), Holding(symbol='CVX'), Holding(symbol='CMG'), Holding(symbol='CB'), Holding(symbol='CHD'), Holding(symbol='CI'), Holding(symbol='CINF'), Holding(symbol='CTAS'), Holding(symbol='CSCO'), Holding(symbol='C'), Holding(symbol='CFG'), Holding(symbol='CTXS'), Holding(symbol='CLX'), Holding(symbol='CME'), Holding(symbol='CMS'), Holding(symbol='KO'), Holding(symbol='CTSH'), Holding(symbol='CL'), Holding(symbol='CMCSA'), Holding(symbol='CMA'), Holding(symbol='CAG'), Holding(symbol='COP'), Holding(symbol='ED'), Holding(symbol='STZ'), Holding(symbol='CEG'), Holding(symbol='COO'), Holding(symbol='CPRT'), Holding(symbol='GLW'), Holding(symbol='CTVA'), Holding(symbol='COST'), Holding(symbol='CTRA'), Holding(symbol='CCI'), Holding(symbol='CSX'), Holding(symbol='CMI'), Holding(symbol='CVS'), Holding(symbol='DHI'), Holding(symbol='DHR'), Holding(symbol='DRI'), Holding(symbol='DVA'), Holding(symbol='DE'), Holding(symbol='DAL'), Holding(symbol='XRAY'), Holding(symbol='DVN'), Holding(symbol='DXCM'), Holding(symbol='FANG'), Holding(symbol='DLR'), Holding(symbol='DFS'), Holding(symbol='DISH'), Holding(symbol='DIS'), Holding(symbol='DG'), Holding(symbol='DLTR'), Holding(symbol='D'), Holding(symbol='DPZ'), Holding(symbol='DOV'), Holding(symbol='DOW'), Holding(symbol='DTE'), Holding(symbol='DUK'), Holding(symbol='DRE'), Holding(symbol='DD'), Holding(symbol='DXC'), Holding(symbol='EMN'), Holding(symbol='ETN'), Holding(symbol='EBAY'), Holding(symbol='ECL'), Holding(symbol='EIX'), Holding(symbol='EW'), Holding(symbol='EA'), Holding(symbol='ELV'), Holding(symbol='LLY'), Holding(symbol='EMR'), Holding(symbol='ENPH'), Holding(symbol='ETR'), Holding(symbol='EOG'), Holding(symbol='EPAM'), Holding(symbol='EFX'), Holding(symbol='EQIX'), Holding(symbol='EQR'), Holding(symbol='ESS'), Holding(symbol='EL'), Holding(symbol='ETSY'), Holding(symbol='RE'), Holding(symbol='EVRG'), Holding(symbol='ES'), Holding(symbol='EXC'), Holding(symbol='EXPE'), Holding(symbol='EXPD'), Holding(symbol='EXR'), Holding(symbol='XOM'), Holding(symbol='FFIV'), Holding(symbol='FDS'), Holding(symbol='FAST'), Holding(symbol='FRT'), Holding(symbol='FDX'), Holding(symbol='FITB'), Holding(symbol='FRC'), Holding(symbol='FE'), Holding(symbol='FIS'), Holding(symbol='FISV'), Holding(symbol='FLT'), Holding(symbol='FMC'), Holding(symbol='F'), Holding(symbol='FTNT'), Holding(symbol='FTV'), Holding(symbol='FBHS'), Holding(symbol='FOXA'), Holding(symbol='FOX'), Holding(symbol='BEN'), Holding(symbol='FCX'), Holding(symbol='GRMN'), Holding(symbol='IT'), Holding(symbol='GNRC'), Holding(symbol='GD'), Holding(symbol='GE'), Holding(symbol='GIS'), Holding(symbol='GM'), Holding(symbol='GPC'), Holding(symbol='GILD'), Holding(symbol='GL'), Holding(symbol='GPN'), Holding(symbol='GS'), Holding(symbol='HAL'), Holding(symbol='HIG'), Holding(symbol='HAS'), Holding(symbol='HCA'), Holding(symbol='PEAK'), Holding(symbol='HSIC'), Holding(symbol='HSY'), Holding(symbol='HES'), Holding(symbol='HPE'), Holding(symbol='HLT'), Holding(symbol='HOLX'), Holding(symbol='HD'), Holding(symbol='HON'), Holding(symbol='HRL'), Holding(symbol='HST'), Holding(symbol='HWM'), Holding(symbol='HPQ'), Holding(symbol='HUM'), Holding(symbol='HBAN'), Holding(symbol='HII'), Holding(symbol='IBM'), Holding(symbol='IEX'), Holding(symbol='IDXX'), Holding(symbol='ITW'), Holding(symbol='ILMN'), Holding(symbol='INCY'), Holding(symbol='IR'), Holding(symbol='INTC'), Holding(symbol='ICE'), Holding(symbol='IP'), Holding(symbol='IPG'), Holding(symbol='IFF'), Holding(symbol='INTU'), Holding(symbol='ISRG'), Holding(symbol='IVZ'), Holding(symbol='IQV'), Holding(symbol='IRM'), Holding(symbol='JBHT'), Holding(symbol='JKHY'), Holding(symbol='J'), Holding(symbol='JNJ'), Holding(symbol='JCI'), Holding(symbol='JPM'), Holding(symbol='JNPR'), Holding(symbol='K'), Holding(symbol='KDP'), Holding(symbol='KEY'), Holding(symbol='KEYS'), Holding(symbol='KMB'), Holding(symbol='KIM'), Holding(symbol='KMI'), Holding(symbol='KLAC'), Holding(symbol='KHC'), Holding(symbol='KR'), Holding(symbol='LHX'), Holding(symbol='LH'), Holding(symbol='LRCX'), Holding(symbol='LW'), Holding(symbol='LVS'), Holding(symbol='LDOS'), Holding(symbol='LEN'), Holding(symbol='LNC'), Holding(symbol='LIN'), Holding(symbol='LYV'), Holding(symbol='LKQ'), Holding(symbol='LMT'), Holding(symbol='L'), Holding(symbol='LOW'), Holding(symbol='LUMN'), Holding(symbol='LYB'), Holding(symbol='MTB'), Holding(symbol='MRO'), Holding(symbol='MPC'), Holding(symbol='MKTX'), Holding(symbol='MAR'), Holding(symbol='MMC'), Holding(symbol='MLM'), Holding(symbol='MAS'), Holding(symbol='MA'), Holding(symbol='MTCH'), Holding(symbol='MKC'), Holding(symbol='MCD'), Holding(symbol='MCK'), Holding(symbol='MDT'), Holding(symbol='MRK'), Holding(symbol='META'), Holding(symbol='MET'), Holding(symbol='MTD'), Holding(symbol='MGM'), Holding(symbol='MCHP'), Holding(symbol='MU'), Holding(symbol='MSFT'), Holding(symbol='MAA'), Holding(symbol='MRNA'), Holding(symbol='MHK'), Holding(symbol='MOH'), Holding(symbol='TAP'), Holding(symbol='MDLZ'), Holding(symbol='MPWR'), Holding(symbol='MNST'), Holding(symbol='MCO'), Holding(symbol='MS'), Holding(symbol='MOS'), Holding(symbol='MSI'), Holding(symbol='MSCI'), Holding(symbol='NDAQ'), Holding(symbol='NTAP'), Holding(symbol='NFLX'), Holding(symbol='NWL'), Holding(symbol='NEM'), Holding(symbol='NWSA'), Holding(symbol='NWS'), Holding(symbol='NEE'), Holding(symbol='NLSN'), Holding(symbol='NKE'), Holding(symbol='NI'), Holding(symbol='NDSN'), Holding(symbol='NSC'), Holding(symbol='NTRS'), Holding(symbol='NOC'), Holding(symbol='NLOK'), Holding(symbol='NCLH'), Holding(symbol='NRG'), Holding(symbol='NUE'), Holding(symbol='NVDA'), Holding(symbol='NVR'), Holding(symbol='NXPI'), Holding(symbol='ORLY'), Holding(symbol='OXY'), Holding(symbol='ODFL'), Holding(symbol='OMC'), Holding(symbol='ON'), Holding(symbol='OKE'), Holding(symbol='ORCL'), Holding(symbol='OGN'), Holding(symbol='OTIS'), Holding(symbol='PCAR'), Holding(symbol='PKG'), Holding(symbol='PARA'), Holding(symbol='PH'), Holding(symbol='PAYX'), Holding(symbol='PAYC'), Holding(symbol='PYPL'), Holding(symbol='PENN'), Holding(symbol='PNR'), Holding(symbol='PEP'), Holding(symbol='PKI'), Holding(symbol='PFE'), Holding(symbol='PM'), Holding(symbol='PSX'), Holding(symbol='PNW'), Holding(symbol='PXD'), Holding(symbol='PNC'), Holding(symbol='POOL'), Holding(symbol='PPG'), Holding(symbol='PPL'), Holding(symbol='PFG'), Holding(symbol='PG'), Holding(symbol='PGR'), Holding(symbol='PLD'), Holding(symbol='PRU'), Holding(symbol='PEG'), Holding(symbol='PTC'), Holding(symbol='PSA'), Holding(symbol='PHM'), Holding(symbol='PVH'), Holding(symbol='QRVO'), Holding(symbol='PWR'), Holding(symbol='QCOM'), Holding(symbol='DGX'), Holding(symbol='RL'), Holding(symbol='RJF'), Holding(symbol='RTX'), Holding(symbol='O'), Holding(symbol='REG'), Holding(symbol='REGN'), Holding(symbol='RF'), Holding(symbol='RSG'), Holding(symbol='RMD'), Holding(symbol='RHI'), Holding(symbol='ROK'), Holding(symbol='ROL'), Holding(symbol='ROP'), Holding(symbol='ROST'), Holding(symbol='RCL'), Holding(symbol='SPGI'), Holding(symbol='CRM'), Holding(symbol='SBAC'), Holding(symbol='SLB'), Holding(symbol='STX'), Holding(symbol='SEE'), Holding(symbol='SRE'), Holding(symbol='NOW'), Holding(symbol='SHW'), Holding(symbol='SBNY'), Holding(symbol='SPG'), Holding(symbol='SWKS'), Holding(symbol='SJM'), Holding(symbol='SNA'), Holding(symbol='SEDG'), Holding(symbol='SO'), Holding(symbol='LUV'), Holding(symbol='SWK'), Holding(symbol='SBUX'), Holding(symbol='STT'), Holding(symbol='STE'), Holding(symbol='SYK'), Holding(symbol='SIVB'), Holding(symbol='SYF'), Holding(symbol='SNPS'), Holding(symbol='SYY'), Holding(symbol='TMUS'), Holding(symbol='TROW'), Holding(symbol='TTWO'), Holding(symbol='TPR'), Holding(symbol='TGT'), Holding(symbol='TEL'), Holding(symbol='TDY'), Holding(symbol='TFX'), Holding(symbol='TER'), Holding(symbol='TSLA'), Holding(symbol='TXN'), Holding(symbol='TXT'), Holding(symbol='TMO'), Holding(symbol='TJX'), Holding(symbol='TSCO'), Holding(symbol='TT'), Holding(symbol='TDG'), Holding(symbol='TRV'), Holding(symbol='TRMB'), Holding(symbol='TFC'), Holding(symbol='TWTR'), Holding(symbol='TYL'), Holding(symbol='TSN'), Holding(symbol='USB'), Holding(symbol='UDR'), Holding(symbol='ULTA'), Holding(symbol='UNP'), Holding(symbol='UAL'), Holding(symbol='UPS'), Holding(symbol='URI'), Holding(symbol='UNH'), Holding(symbol='UHS'), Holding(symbol='VLO'), Holding(symbol='VTR'), Holding(symbol='VRSN'), Holding(symbol='VRSK'), Holding(symbol='VZ'), Holding(symbol='VRTX'), Holding(symbol='VFC'), Holding(symbol='VTRS'), Holding(symbol='VICI'), Holding(symbol='V'), Holding(symbol='VNO'), Holding(symbol='VMC'), Holding(symbol='WAB'), Holding(symbol='WBA'), Holding(symbol='WMT'), Holding(symbol='WBD'), Holding(symbol='WM'), Holding(symbol='WAT'), Holding(symbol='WEC'), Holding(symbol='WFC'), Holding(symbol='WELL'), Holding(symbol='WST'), Holding(symbol='WDC'), Holding(symbol='WRK'), Holding(symbol='WY'), Holding(symbol='WHR'), Holding(symbol='WMB'), Holding(symbol='WTW'), Holding(symbol='GWW'), Holding(symbol='WYNN'), Holding(symbol='XEL'), Holding(symbol='XYL'), Holding(symbol='YUM'), Holding(symbol='ZBRA'), Holding(symbol='ZBH'), Holding(symbol='ZION'), Holding(symbol='ZTS')])]"
      ]
     },
     "execution_count": 3,
     "metadata": {},
     "output_type": "execute_result"
    }
   ],
   "source": [
    "strategist.state"
   ]
  },
  {
   "cell_type": "code",
   "execution_count": 7,
   "metadata": {},
   "outputs": [],
   "source": [
    "import pickle\n",
    "with open('static/data.pickle', 'rb') as f:\n",
    "    dict_symbol_result = pickle.load(f)"
   ]
  },
  {
   "cell_type": "code",
   "execution_count": 13,
   "metadata": {},
   "outputs": [],
   "source": [
    "import pandas as pd\n",
    "df_financial_ratios =  pd.DataFrame(dict_symbol_result['EXR'])"
   ]
  },
  {
   "cell_type": "code",
   "execution_count": 22,
   "metadata": {},
   "outputs": [
    {
     "data": {
      "text/plain": [
       "<generator object <genexpr> at 0x000001F0671217E0>"
      ]
     },
     "execution_count": 22,
     "metadata": {},
     "output_type": "execute_result"
    }
   ],
   "source": [
    "a_list = ['a', 'b', 'c']\n",
    "gen = [x for x in a_list if x  == 'a']\n",
    "gen"
   ]
  }
 ],
 "metadata": {
  "kernelspec": {
   "display_name": "Python 3.10.0 ('backtesting.py')",
   "language": "python",
   "name": "python3"
  },
  "language_info": {
   "codemirror_mode": {
    "name": "ipython",
    "version": 3
   },
   "file_extension": ".py",
   "mimetype": "text/x-python",
   "name": "python",
   "nbconvert_exporter": "python",
   "pygments_lexer": "ipython3",
   "version": "3.10.0"
  },
  "orig_nbformat": 4,
  "vscode": {
   "interpreter": {
    "hash": "dc506b3872fded5f7c6813187615140ee6be7db6d6c2f5d3cb5e42b19ef88145"
   }
  }
 },
 "nbformat": 4,
 "nbformat_minor": 2
}
