{
 "cells": [
  {
   "cell_type": "code",
   "execution_count": null,
   "outputs": [],
   "source": [
    "from dotenv import load_dotenv\n",
    "import fmpsdk\n",
    "import pandas as pd\n",
    "import os\n",
    "\n",
    "load_dotenv()\n",
    "apikey = os.environ.get(\"apikey\")\n",
    "snp500 = pd.DataFrame(fmpsdk.sp500_constituent(apikey))\n",
    "\n",
    "PBR_KEY = 'priceBookValueRatio'\n",
    "\n"
   ],
   "metadata": {
    "collapsed": false,
    "pycharm": {
     "name": "#%%\n"
    }
   }
  },
  {
   "cell_type": "code",
   "execution_count": null,
   "outputs": [],
   "source": [
    "from fetch import Fetcher\n",
    "\n",
    "file_directories = ['financial-ratios-quarter-20220820.csv']\n",
    "key_list = [PBR_KEY]\n",
    "key = key_list[0]\n",
    "\n",
    "fetcher = Fetcher()\n",
    "fetcher.register(key_list=key_list, csv_file_directory=file_directories[0])\n",
    "from strategy import *\n",
    "\n",
    "selector_pbr = Selector(type=SelectorType.HORIZON_RANGE, key=PBR_KEY, value=(0.0, 2.0), horizon=4)\n",
    "selector_sequence = SelectorSequence(selectors=[selector_pbr])\n",
    "filter_1 = Filter(selector_sequence_union=[selector_sequence])\n"
   ],
   "metadata": {
    "collapsed": false,
    "pycharm": {
     "name": "#%%\n"
    }
   }
  },
  {
   "cell_type": "code",
   "execution_count": null,
   "outputs": [],
   "source": [
    "initial_holdings = [Asset(symbol=symbol) for symbol in snp500['symbol']]\n",
    "start_date = '2017-03-01'\n",
    "end_date = '2019-03-01'\n",
    "strategist = Strategist(fetcher=fetcher, asset_pool=initial_holdings, start_date=start_date, end_date=end_date)\n",
    "\n",
    "strategist.select_assets(filter=filter_1, rebalance_date='2018-03-06')\n",
    "strategist.select_assets(filter=filter_1, rebalance_date='2018-09-06')\n"
   ],
   "metadata": {
    "collapsed": false,
    "pycharm": {
     "name": "#%%\n"
    }
   }
  },
  {
   "cell_type": "code",
   "execution_count": 4,
   "outputs": [],
   "source": [
    "from analyze import Analyst\n",
    "analyst = Analyst()\n",
    "analyst.register(table_name='price_list', csv_file_directory='snp500_price_list_19620102_20220814.csv')\n",
    "analyst.register(table_name='economic_indicators', csv_file_directory='snp500_price_list_19620102_20220814.csv')"
   ],
   "metadata": {
    "collapsed": false,
    "pycharm": {
     "name": "#%%\n"
    }
   }
  },
  {
   "cell_type": "markdown",
   "source": [],
   "metadata": {
    "collapsed": false,
    "pycharm": {
     "name": "#%% md\n"
    }
   }
  },
  {
   "cell_type": "code",
   "execution_count": 8,
   "outputs": [],
   "source": [
    "import pickle\n",
    "with open('snp500_price_list_19620102_20220814.pickle', 'rb') as f:\n",
    "    price_history = pickle.load(f)"
   ],
   "metadata": {
    "collapsed": false,
    "pycharm": {
     "name": "#%%\n"
    }
   }
  },
  {
   "cell_type": "code",
   "execution_count": 13,
   "outputs": [
    {
     "name": "stdout",
     "output_type": "stream",
     "text": [
      "Elapsed time is 0.000249 seconds.\n"
     ]
    }
   ],
   "source": [
    "df_price_history = pd.DataFrame(price_history)\n",
    "from pytictoc import TicToc\n",
    "t = TicToc()\n",
    "t.tic()\n",
    "df_price_slice = df_price_history['2001-01-01':'2011-01-01']\n",
    "t.toc()"
   ],
   "metadata": {
    "collapsed": false,
    "pycharm": {
     "name": "#%%\n"
    }
   }
  },
  {
   "cell_type": "code",
   "execution_count": 18,
   "outputs": [],
   "source": [
    "df_price_history.index = pd.to_datetime(df_price_history.index)\n",
    "df_price_history_daily = df_price_history.copy()\n",
    "df_price_history_monthly = df_price_history.resample('1M').last()\n",
    "df_price_history_weakly = df_price_history.resample('1w').last()\n",
    "df_price_history_yearly = df_price_history.resample('1Y').last()"
   ],
   "metadata": {
    "collapsed": false,
    "pycharm": {
     "name": "#%%\n"
    }
   }
  }
 ],
 "metadata": {
  "kernelspec": {
   "display_name": "Python 3.10.4 ('django')",
   "language": "python",
   "name": "python3"
  },
  "language_info": {
   "codemirror_mode": {
    "name": "ipython",
    "version": 3
   },
   "file_extension": ".py",
   "mimetype": "text/x-python",
   "name": "python",
   "nbconvert_exporter": "python",
   "pygments_lexer": "ipython3",
   "version": "3.10.4"
  },
  "orig_nbformat": 4,
  "vscode": {
   "interpreter": {
    "hash": "9dca059c2cfd48b5b215bc81a5bfcbd3e92e2946ff192efe0cd3114a3f5aa30b"
   }
  }
 },
 "nbformat": 4,
 "nbformat_minor": 2
}