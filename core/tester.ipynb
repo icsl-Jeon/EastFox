{
 "cells": [
  {
   "cell_type": "code",
   "execution_count": 1,
   "outputs": [],
   "source": [
    "from dotenv import load_dotenv\n",
    "import fmpsdk\n",
    "import pandas as pd\n",
    "import os\n",
    "\n",
    "load_dotenv()\n",
    "apikey = os.environ.get(\"apikey\")\n",
    "snp500 = pd.DataFrame(fmpsdk.sp500_constituent(apikey))\n",
    "\n",
    "PBR_KEY = 'priceBookValueRatio'\n",
    "\n",
    "from fetch import Fetcher\n",
    "\n",
    "file_directories = ['financial-ratios-quarter-20220820.csv']\n",
    "key_list = [PBR_KEY]\n",
    "key = key_list[0]\n",
    "\n",
    "fetcher = Fetcher()\n",
    "fetcher.register(key_list=key_list, csv_file_directory=file_directories[0])\n",
    "from strategy import *\n",
    "\n",
    "selector_pbr = Selector(type=SelectorType.HORIZON_RANGE, key=PBR_KEY, value=(0.0, 2.0), horizon=4)\n",
    "selector_sequence = SelectorSequence(selectors=[selector_pbr])\n",
    "filter_1 = Filter(selector_sequence_union=[selector_sequence])\n"
   ],
   "metadata": {
    "collapsed": false,
    "pycharm": {
     "name": "#%%\n"
    }
   }
  },
  {
   "cell_type": "code",
   "execution_count": 2,
   "outputs": [],
   "source": [
    "initial_holdings = [Asset(symbol=symbol) for symbol in snp500['symbol']]\n",
    "start_date = '2017-03-01'\n",
    "end_date = '2019-03-01'\n",
    "strategist = Strategist(fetcher=fetcher, asset_pool=initial_holdings, start_date=start_date, end_date=end_date)\n",
    "\n",
    "strategist.select_assets(filter=filter_1, rebalance_date='2018-03-06')\n",
    "strategist.select_assets(filter=filter_1, rebalance_date='2018-09-06')\n"
   ],
   "metadata": {
    "collapsed": false,
    "pycharm": {
     "name": "#%%\n"
    }
   }
  },
  {
   "cell_type": "code",
   "execution_count": 3,
   "outputs": [],
   "source": [
    "from analyze import Analyst\n",
    "analyst = Analyst()\n",
    "analyst.register(table_name='price_list', csv_file_directory='snp500_price_list_19620102_20220814.csv')\n",
    "analyst.register(table_name='economic_indicators', csv_file_directory='snp500_price_list_19620102_20220814.csv')"
   ],
   "metadata": {
    "collapsed": false,
    "pycharm": {
     "name": "#%%\n"
    }
   }
  },
  {
   "cell_type": "code",
   "execution_count": 4,
   "outputs": [],
   "source": [
    "total_initial = 1\n",
    "total_history = pd.Series(dtype=float)\n",
    "\n",
    "for segment in strategist.state:\n",
    "    segment_start_date = segment.start_date\n",
    "    segment_end_date = segment.end_date\n",
    "    symbols = segment.get_asset_symbol_list()\n",
    "    table_key = 'daily'\n",
    "    df_price_table = analyst.table_dict['price_list'][table_key]\n",
    "    df_segment_price_history = df_price_table[segment_start_date:segment_end_date][symbols]\n",
    "\n"
   ],
   "metadata": {
    "collapsed": false,
    "pycharm": {
     "name": "#%%\n"
    }
   }
  },
  {
   "cell_type": "code",
   "execution_count": 18,
   "outputs": [
    {
     "data": {
      "text/plain": "0.9999999999999987"
     },
     "execution_count": 18,
     "metadata": {},
     "output_type": "execute_result"
    }
   ],
   "source": [
    "df_segment_price_history_copy = df_segment_price_history.copy()\n",
    "initial_price_list = df_segment_price_history.iloc[0]\n",
    "holding_list = initial_price_list.apply(lambda x: 1.0/x/len(initial_price_list))\n",
    "\n",
    "sum(holding_list * initial_price_list)"
   ],
   "metadata": {
    "collapsed": false,
    "pycharm": {
     "name": "#%%\n"
    }
   }
  },
  {
   "cell_type": "code",
   "execution_count": 25,
   "outputs": [
    {
     "data": {
      "text/plain": "date\n2018-09-06    1.000000\n2018-09-07    0.994095\n2018-09-10    0.994601\n2018-09-11    0.995366\n2018-09-12    0.994474\n                ...   \n2019-02-25    0.976076\n2019-02-26    0.972945\n2019-02-27    0.972855\n2019-02-28    0.972005\n2019-03-01    0.977004\nLength: 121, dtype: float64"
     },
     "execution_count": 25,
     "metadata": {},
     "output_type": "execute_result"
    }
   ],
   "source": [
    "df_segment_price_history_copy.apply(lambda x: x.dot(holding_list),axis=1)"
   ],
   "metadata": {
    "collapsed": false,
    "pycharm": {
     "name": "#%%\n"
    }
   }
  },
  {
   "cell_type": "code",
   "execution_count": 26,
   "outputs": [
    {
     "data": {
      "text/plain": "                  USB        SJM   BRK-B       EVRG         DD          C  \\\ndate                                                                        \n2018-09-06  47.813110  97.996849  212.88  51.879562  92.147766  62.018902   \n2018-09-07  47.689911  97.782593  214.04  51.307526  92.042564  61.603130   \n2018-09-10  47.637108  98.353950  215.11  51.465939  92.121445  61.594276   \n2018-09-11  47.698700  97.479065  215.10  51.404335  92.147766  61.417366   \n2018-09-12  47.126675  98.380730  214.59  51.175514  91.043243  62.372723   \n...               ...        ...     ...        ...        ...        ...   \n2019-02-25  46.108753  91.650147  202.31  49.357437  74.232224  57.879814   \n2019-02-26  45.831791  96.211807  201.90  49.490509  73.967468  57.512077   \n2019-02-27  46.046204  97.554008  202.29  49.224384  72.927948  57.763222   \n2019-02-28  46.180214  96.048561  201.30  49.596966  70.942146  57.386494   \n2019-03-01  46.207020  95.604195  203.13  49.234611  71.088745  57.825996   \n\n                    CB        KMI        LNC          GS  ...        ALL  \\\ndate                                                      ...              \n2018-09-06  127.530273  14.108843  57.818901  217.002487  ...  93.343987   \n2018-09-07  126.852425  14.228613  57.562325  216.438080  ...  92.356071   \n2018-09-10  125.784584  14.124809  57.394226  214.587448  ...  90.343323   \n2018-09-11  125.877434  14.380320  57.208420  213.014450  ...  90.629547   \n2018-09-12  125.041695  14.500089  56.792591  211.108292  ...  90.094040   \n...                ...        ...        ...         ...  ...        ...   \n2019-02-25  127.091843  15.774675  56.704483  184.556198  ...  88.074043   \n2019-02-26  126.904068  15.709287  56.561260  184.788437  ...  87.322296   \n2019-02-27  124.894943  15.758325  56.400143  184.788437  ...  87.686165   \n2019-02-28  125.711731  15.660251  55.961544  183.482498  ...  88.059372   \n2019-03-01  125.918289  16.134304  56.292732  184.881729  ...  88.647202   \n\n                  KHC       LUMN         ZBH        HIG        PLD        MOS  \\\ndate                                                                            \n2018-09-06  47.369213  15.910275  116.401573  45.746872  61.330840  29.321867   \n2018-09-07  47.194088  15.866886  116.608818  45.480896  60.253579  28.992620   \n2018-09-10  47.736172  15.772872  116.052994  45.288296  60.746563  29.341228   \n2018-09-11  48.169823  16.279106  116.128334  45.196579  60.609623  29.951296   \n2018-09-12  49.304016  16.590082  118.879173  44.893929  60.646140  30.135284   \n...               ...        ...         ...        ...        ...        ...   \n2019-02-25  28.889637   9.813415  117.213417  45.403305  66.031292  31.778099   \n2019-02-26  27.952814   9.671840  116.702583  45.255558  65.827435  30.488354   \n2019-02-27  27.176348   9.761257  117.771591  45.320202  65.012005  31.196257   \n2019-02-28  28.011890   9.828317  117.421555  45.578758  64.919342  30.323498   \n2019-03-01  27.345144   9.664388  118.641930  45.894623  64.752550  30.061674   \n\n                    RE        SBNY        LEN  \ndate                                           \n2018-09-06  202.170670  112.390556  50.636799  \n2018-09-07  198.649231  112.192467  48.885693  \n2018-09-10  193.440781  112.117004  49.040489  \n2018-09-11  194.058441  112.598068  49.504871  \n2018-09-12  197.284897  110.428558  50.520702  \n...                ...         ...        ...  \n2019-02-25  205.756668  129.260895  48.113373  \n2019-02-26  205.397171  128.889511  47.938908  \n2019-02-27  206.761520  129.927414  47.337978  \n2019-02-28  208.439270  129.270416  46.504421  \n2019-03-01  207.775543  129.670303  45.583633  \n\n[121 rows x 104 columns]",
      "text/html": "<div>\n<style scoped>\n    .dataframe tbody tr th:only-of-type {\n        vertical-align: middle;\n    }\n\n    .dataframe tbody tr th {\n        vertical-align: top;\n    }\n\n    .dataframe thead th {\n        text-align: right;\n    }\n</style>\n<table border=\"1\" class=\"dataframe\">\n  <thead>\n    <tr style=\"text-align: right;\">\n      <th></th>\n      <th>USB</th>\n      <th>SJM</th>\n      <th>BRK-B</th>\n      <th>EVRG</th>\n      <th>DD</th>\n      <th>C</th>\n      <th>CB</th>\n      <th>KMI</th>\n      <th>LNC</th>\n      <th>GS</th>\n      <th>...</th>\n      <th>ALL</th>\n      <th>KHC</th>\n      <th>LUMN</th>\n      <th>ZBH</th>\n      <th>HIG</th>\n      <th>PLD</th>\n      <th>MOS</th>\n      <th>RE</th>\n      <th>SBNY</th>\n      <th>LEN</th>\n    </tr>\n    <tr>\n      <th>date</th>\n      <th></th>\n      <th></th>\n      <th></th>\n      <th></th>\n      <th></th>\n      <th></th>\n      <th></th>\n      <th></th>\n      <th></th>\n      <th></th>\n      <th></th>\n      <th></th>\n      <th></th>\n      <th></th>\n      <th></th>\n      <th></th>\n      <th></th>\n      <th></th>\n      <th></th>\n      <th></th>\n      <th></th>\n    </tr>\n  </thead>\n  <tbody>\n    <tr>\n      <th>2018-09-06</th>\n      <td>47.813110</td>\n      <td>97.996849</td>\n      <td>212.88</td>\n      <td>51.879562</td>\n      <td>92.147766</td>\n      <td>62.018902</td>\n      <td>127.530273</td>\n      <td>14.108843</td>\n      <td>57.818901</td>\n      <td>217.002487</td>\n      <td>...</td>\n      <td>93.343987</td>\n      <td>47.369213</td>\n      <td>15.910275</td>\n      <td>116.401573</td>\n      <td>45.746872</td>\n      <td>61.330840</td>\n      <td>29.321867</td>\n      <td>202.170670</td>\n      <td>112.390556</td>\n      <td>50.636799</td>\n    </tr>\n    <tr>\n      <th>2018-09-07</th>\n      <td>47.689911</td>\n      <td>97.782593</td>\n      <td>214.04</td>\n      <td>51.307526</td>\n      <td>92.042564</td>\n      <td>61.603130</td>\n      <td>126.852425</td>\n      <td>14.228613</td>\n      <td>57.562325</td>\n      <td>216.438080</td>\n      <td>...</td>\n      <td>92.356071</td>\n      <td>47.194088</td>\n      <td>15.866886</td>\n      <td>116.608818</td>\n      <td>45.480896</td>\n      <td>60.253579</td>\n      <td>28.992620</td>\n      <td>198.649231</td>\n      <td>112.192467</td>\n      <td>48.885693</td>\n    </tr>\n    <tr>\n      <th>2018-09-10</th>\n      <td>47.637108</td>\n      <td>98.353950</td>\n      <td>215.11</td>\n      <td>51.465939</td>\n      <td>92.121445</td>\n      <td>61.594276</td>\n      <td>125.784584</td>\n      <td>14.124809</td>\n      <td>57.394226</td>\n      <td>214.587448</td>\n      <td>...</td>\n      <td>90.343323</td>\n      <td>47.736172</td>\n      <td>15.772872</td>\n      <td>116.052994</td>\n      <td>45.288296</td>\n      <td>60.746563</td>\n      <td>29.341228</td>\n      <td>193.440781</td>\n      <td>112.117004</td>\n      <td>49.040489</td>\n    </tr>\n    <tr>\n      <th>2018-09-11</th>\n      <td>47.698700</td>\n      <td>97.479065</td>\n      <td>215.10</td>\n      <td>51.404335</td>\n      <td>92.147766</td>\n      <td>61.417366</td>\n      <td>125.877434</td>\n      <td>14.380320</td>\n      <td>57.208420</td>\n      <td>213.014450</td>\n      <td>...</td>\n      <td>90.629547</td>\n      <td>48.169823</td>\n      <td>16.279106</td>\n      <td>116.128334</td>\n      <td>45.196579</td>\n      <td>60.609623</td>\n      <td>29.951296</td>\n      <td>194.058441</td>\n      <td>112.598068</td>\n      <td>49.504871</td>\n    </tr>\n    <tr>\n      <th>2018-09-12</th>\n      <td>47.126675</td>\n      <td>98.380730</td>\n      <td>214.59</td>\n      <td>51.175514</td>\n      <td>91.043243</td>\n      <td>62.372723</td>\n      <td>125.041695</td>\n      <td>14.500089</td>\n      <td>56.792591</td>\n      <td>211.108292</td>\n      <td>...</td>\n      <td>90.094040</td>\n      <td>49.304016</td>\n      <td>16.590082</td>\n      <td>118.879173</td>\n      <td>44.893929</td>\n      <td>60.646140</td>\n      <td>30.135284</td>\n      <td>197.284897</td>\n      <td>110.428558</td>\n      <td>50.520702</td>\n    </tr>\n    <tr>\n      <th>...</th>\n      <td>...</td>\n      <td>...</td>\n      <td>...</td>\n      <td>...</td>\n      <td>...</td>\n      <td>...</td>\n      <td>...</td>\n      <td>...</td>\n      <td>...</td>\n      <td>...</td>\n      <td>...</td>\n      <td>...</td>\n      <td>...</td>\n      <td>...</td>\n      <td>...</td>\n      <td>...</td>\n      <td>...</td>\n      <td>...</td>\n      <td>...</td>\n      <td>...</td>\n      <td>...</td>\n    </tr>\n    <tr>\n      <th>2019-02-25</th>\n      <td>46.108753</td>\n      <td>91.650147</td>\n      <td>202.31</td>\n      <td>49.357437</td>\n      <td>74.232224</td>\n      <td>57.879814</td>\n      <td>127.091843</td>\n      <td>15.774675</td>\n      <td>56.704483</td>\n      <td>184.556198</td>\n      <td>...</td>\n      <td>88.074043</td>\n      <td>28.889637</td>\n      <td>9.813415</td>\n      <td>117.213417</td>\n      <td>45.403305</td>\n      <td>66.031292</td>\n      <td>31.778099</td>\n      <td>205.756668</td>\n      <td>129.260895</td>\n      <td>48.113373</td>\n    </tr>\n    <tr>\n      <th>2019-02-26</th>\n      <td>45.831791</td>\n      <td>96.211807</td>\n      <td>201.90</td>\n      <td>49.490509</td>\n      <td>73.967468</td>\n      <td>57.512077</td>\n      <td>126.904068</td>\n      <td>15.709287</td>\n      <td>56.561260</td>\n      <td>184.788437</td>\n      <td>...</td>\n      <td>87.322296</td>\n      <td>27.952814</td>\n      <td>9.671840</td>\n      <td>116.702583</td>\n      <td>45.255558</td>\n      <td>65.827435</td>\n      <td>30.488354</td>\n      <td>205.397171</td>\n      <td>128.889511</td>\n      <td>47.938908</td>\n    </tr>\n    <tr>\n      <th>2019-02-27</th>\n      <td>46.046204</td>\n      <td>97.554008</td>\n      <td>202.29</td>\n      <td>49.224384</td>\n      <td>72.927948</td>\n      <td>57.763222</td>\n      <td>124.894943</td>\n      <td>15.758325</td>\n      <td>56.400143</td>\n      <td>184.788437</td>\n      <td>...</td>\n      <td>87.686165</td>\n      <td>27.176348</td>\n      <td>9.761257</td>\n      <td>117.771591</td>\n      <td>45.320202</td>\n      <td>65.012005</td>\n      <td>31.196257</td>\n      <td>206.761520</td>\n      <td>129.927414</td>\n      <td>47.337978</td>\n    </tr>\n    <tr>\n      <th>2019-02-28</th>\n      <td>46.180214</td>\n      <td>96.048561</td>\n      <td>201.30</td>\n      <td>49.596966</td>\n      <td>70.942146</td>\n      <td>57.386494</td>\n      <td>125.711731</td>\n      <td>15.660251</td>\n      <td>55.961544</td>\n      <td>183.482498</td>\n      <td>...</td>\n      <td>88.059372</td>\n      <td>28.011890</td>\n      <td>9.828317</td>\n      <td>117.421555</td>\n      <td>45.578758</td>\n      <td>64.919342</td>\n      <td>30.323498</td>\n      <td>208.439270</td>\n      <td>129.270416</td>\n      <td>46.504421</td>\n    </tr>\n    <tr>\n      <th>2019-03-01</th>\n      <td>46.207020</td>\n      <td>95.604195</td>\n      <td>203.13</td>\n      <td>49.234611</td>\n      <td>71.088745</td>\n      <td>57.825996</td>\n      <td>125.918289</td>\n      <td>16.134304</td>\n      <td>56.292732</td>\n      <td>184.881729</td>\n      <td>...</td>\n      <td>88.647202</td>\n      <td>27.345144</td>\n      <td>9.664388</td>\n      <td>118.641930</td>\n      <td>45.894623</td>\n      <td>64.752550</td>\n      <td>30.061674</td>\n      <td>207.775543</td>\n      <td>129.670303</td>\n      <td>45.583633</td>\n    </tr>\n  </tbody>\n</table>\n<p>121 rows × 104 columns</p>\n</div>"
     },
     "execution_count": 26,
     "metadata": {},
     "output_type": "execute_result"
    }
   ],
   "source": [
    "df_segment_price_history_copy"
   ],
   "metadata": {
    "collapsed": false,
    "pycharm": {
     "name": "#%%\n"
    }
   }
  },
  {
   "cell_type": "markdown",
   "source": [],
   "metadata": {
    "collapsed": false,
    "pycharm": {
     "name": "#%% md\n"
    }
   }
  }
 ],
 "metadata": {
  "kernelspec": {
   "display_name": "Python 3.10.4 ('django')",
   "language": "python",
   "name": "python3"
  },
  "language_info": {
   "codemirror_mode": {
    "name": "ipython",
    "version": 3
   },
   "file_extension": ".py",
   "mimetype": "text/x-python",
   "name": "python",
   "nbconvert_exporter": "python",
   "pygments_lexer": "ipython3",
   "version": "3.10.4"
  },
  "orig_nbformat": 4,
  "vscode": {
   "interpreter": {
    "hash": "9dca059c2cfd48b5b215bc81a5bfcbd3e92e2946ff192efe0cd3114a3f5aa30b"
   }
  }
 },
 "nbformat": 4,
 "nbformat_minor": 2
}