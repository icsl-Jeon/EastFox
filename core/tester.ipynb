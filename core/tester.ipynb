{
 "cells": [
  {
   "cell_type": "code",
   "execution_count": 8,
   "metadata": {
    "pycharm": {
     "name": "#%%\n"
    }
   },
   "outputs": [],
   "source": [
    "from dotenv import load_dotenv\n",
    "import fmpsdk\n",
    "import pandas as pd\n",
    "import os\n",
    "\n",
    "load_dotenv()\n",
    "apikey = os.environ.get(\"apikey\")\n",
    "snp500 = pd.DataFrame(fmpsdk.sp500_constituent(apikey))"
   ]
  },
  {
   "cell_type": "code",
   "execution_count": null,
   "outputs": [],
   "source": [
    "from strategy import *\n",
    "\n",
    "PBR_KEY = 'priceBookValueRatio'\n",
    "\n",
    "selector_pbr = Selector(type=SelectorType.HORIZON_RANGE, key=PBR_KEY, value=(0.0, 2.0), horizon=4)\n",
    "selector_sequence = [selector_pbr]\n",
    "filter = Filter(selector_sequence_union=[selector_sequence])\n"
   ],
   "metadata": {
    "collapsed": false,
    "pycharm": {
     "name": "#%%\n"
    }
   }
  },
  {
   "cell_type": "code",
   "execution_count": null,
   "outputs": [],
   "source": [
    "from strategy import *\n",
    "\n",
    "initial_holdings = [Asset(symbol=symbol) for symbol in snp500['symbol']]\n",
    "start_date = '2017-03-01'\n",
    "end_date = '2019-03-01'\n",
    "strategist = Strategist(database_list=[], initial_holdings=initial_holdings, start_date=start_date, end_date=end_date)\n",
    "\n",
    "filter_1 = Filter(selector_sequence_union=[])\n",
    "strategist.select_assets(filter=filter_1, rebalance_date='2018-03-06')\n",
    "strategist.select_assets(filter=filter_1, rebalance_date='2018-09-06')\n"
   ],
   "metadata": {
    "collapsed": false,
    "pycharm": {
     "name": "#%%\n"
    }
   }
  },
  {
   "cell_type": "code",
   "execution_count": null,
   "outputs": [],
   "source": [
    "from fetch import Fetcher\n",
    "from pytictoc import TicToc\n",
    "\n",
    "t = TicToc()\n",
    "\n",
    "file_directories = ['financial-ratios-full-year-20220819.csv']\n",
    "key_list = [PBR_KEY, 'grossProfitMargin']\n",
    "key = key_list[0]\n",
    "\n",
    "fetcher = Fetcher()\n",
    "fetcher.register(key_list=key_list, csv_file_directory=file_directories[0])\n",
    "t.tic()\n",
    "fetcher.fetch_past(key=key_list[0], symbol='TSLA', query_date='2022-03-01', horizon=4, reverse_search_idx_hint=None)\n",
    "elapse = t.toc()"
   ],
   "metadata": {
    "collapsed": false,
    "pycharm": {
     "name": "#%%\n"
    }
   }
  },
  {
   "cell_type": "code",
   "execution_count": 7,
   "metadata": {
    "pycharm": {
     "name": "#%%\n"
    }
   },
   "outputs": [
    {
     "name": "stdout",
     "output_type": "stream",
     "text": [
      "Elapsed time is 0.000603 seconds.\n"
     ]
    }
   ],
   "source": [
    "from fetch import Fetcher\n",
    "from pytictoc import TicToc\n",
    "\n",
    "t = TicToc()\n",
    "\n",
    "file_directories = ['financial-ratios-full-year-20220819.csv']\n",
    "key_list = [PBR_KEY, 'grossProfitMargin']\n",
    "key = key_list[0]\n",
    "\n",
    "fetcher = Fetcher()\n",
    "fetcher.register(key_list=key_list, csv_file_directory=file_directories[0])\n",
    "t.tic()\n",
    "fetcher.fetch_past(key=key_list[0], symbol='TSLA', query_date='2022-03-01', horizon=4, reverse_search_idx_hint=None)\n",
    "elapse = t.toc()"
   ]
  },
  {
   "cell_type": "code",
   "execution_count": 9,
   "outputs": [
    {
     "data": {
      "text/plain": "{Asset(symbol='JBS_1'), Asset(symbol='JBS_2'), Asset(symbol='JBS_3')}"
     },
     "execution_count": 9,
     "metadata": {},
     "output_type": "execute_result"
    }
   ],
   "source": [
    "from strategy import Asset\n",
    "asset1 = Asset(symbol='JBS_1')\n",
    "asset2 = Asset(symbol='JBS_2')\n",
    "asset3 = Asset(symbol='JBS_3')\n",
    "asset1 == asset3\n",
    "asset_set = set([asset1, asset2])\n",
    "asset_set.union(set([asset3]))\n"
   ],
   "metadata": {
    "collapsed": false,
    "pycharm": {
     "name": "#%%\n"
    }
   }
  },
  {
   "cell_type": "code",
   "execution_count": null,
   "outputs": [],
   "source": [],
   "metadata": {
    "collapsed": false,
    "pycharm": {
     "name": "#%%\n"
    }
   }
  }
 ],
 "metadata": {
  "kernelspec": {
   "display_name": "Python 3.10.4 ('django')",
   "language": "python",
   "name": "python3"
  },
  "language_info": {
   "codemirror_mode": {
    "name": "ipython",
    "version": 3
   },
   "file_extension": ".py",
   "mimetype": "text/x-python",
   "name": "python",
   "nbconvert_exporter": "python",
   "pygments_lexer": "ipython3",
   "version": "3.10.4"
  },
  "orig_nbformat": 4,
  "vscode": {
   "interpreter": {
    "hash": "9dca059c2cfd48b5b215bc81a5bfcbd3e92e2946ff192efe0cd3114a3f5aa30b"
   }
  }
 },
 "nbformat": 4,
 "nbformat_minor": 2
}