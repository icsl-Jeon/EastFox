{
 "cells": [
  {
   "cell_type": "code",
   "execution_count": 1,
   "metadata": {
    "pycharm": {
     "name": "#%%\n"
    }
   },
   "outputs": [],
   "source": [
    "from dotenv import load_dotenv\n",
    "import fmpsdk\n",
    "import pandas as pd\n",
    "import os\n",
    "\n",
    "load_dotenv()\n",
    "apikey = os.environ.get(\"apikey\")\n",
    "snp500 = pd.DataFrame(fmpsdk.sp500_constituent(apikey))"
   ]
  },
  {
   "cell_type": "code",
   "execution_count": 2,
   "metadata": {
    "pycharm": {
     "name": "#%%\n"
    }
   },
   "outputs": [],
   "source": [
    "from strategy import *\n",
    "\n",
    "initial_holdings = [Holding(symbol = symbol) for symbol in snp500['symbol']]\n",
    "start_date = '2017-03-01'\n",
    "end_date = '2019-03-01'\n",
    "strategist = Strategist(database_list=[], initial_holdings=initial_holdings, start_date=start_date, end_date=end_date)\n",
    "\n",
    "filter_1  = Filter(selector_sequence_union=[]) \n",
    "strategist.apply_filter(filter = filter_1, date = '2018-03-01')"
   ]
  },
  {
   "cell_type": "code",
   "execution_count": 5,
   "metadata": {
    "pycharm": {
     "name": "#%%\n"
    }
   },
   "outputs": [
    {
     "name": "stdout",
     "output_type": "stream",
     "text": [
      "Elapsed time is 0.000517 seconds.\n"
     ]
    }
   ],
   "source": [
    "from fetch import Fetcher\n",
    "from pytictoc import TicToc\n",
    "t = TicToc()\n",
    "\n",
    "file_directories = ['financial-ratios-20220819.csv']\n",
    "key_list = ['priceBookValueRatio', 'grossProfitMargin']\n",
    "key = key_list[0]\n",
    "\n",
    "fetcher = Fetcher()\n",
    "fetcher.register(key_list=key_list, csv_file_directory=file_directories[0])\n",
    "t.tic()\n",
    "fetcher.fetch_past(key=key_list[0], symbol='TSLA', query_date='2022-03-01',horizon=4, reverse_search_idx_hint=None)\n",
    "elapse = t.toc()"
   ]
  }
 ],
 "metadata": {
  "kernelspec": {
   "display_name": "Python 3.10.4 ('django')",
   "language": "python",
   "name": "python3"
  },
  "language_info": {
   "codemirror_mode": {
    "name": "ipython",
    "version": 3
   },
   "file_extension": ".py",
   "mimetype": "text/x-python",
   "name": "python",
   "nbconvert_exporter": "python",
   "pygments_lexer": "ipython3",
   "version": "3.10.4"
  },
  "orig_nbformat": 4,
  "vscode": {
   "interpreter": {
    "hash": "9dca059c2cfd48b5b215bc81a5bfcbd3e92e2946ff192efe0cd3114a3f5aa30b"
   }
  }
 },
 "nbformat": 4,
 "nbformat_minor": 2
}