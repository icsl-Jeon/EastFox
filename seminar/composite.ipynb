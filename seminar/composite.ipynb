{
 "cells": [
  {
   "cell_type": "markdown",
   "metadata": {
    "pycharm": {
     "name": "#%% md\n"
    }
   },
   "source": [
    "\n",
    "\n",
    "# 동양여우 ver 0.0.1\n",
    "![alt text](resource/fox.png \"Title\")"
   ]
  },
  {
   "cell_type": "markdown",
   "metadata": {
    "pycharm": {
     "name": "#%% md\n"
    }
   },
   "source": [
    "### 이제 좀더 복잡한 테스팅을 해볼까요?\n",
    "* 이제 복합적으로 선택해 나가는 것을 테스트 해볼거에요. (e.g., 대형주 중에서 영업이익이 높은 것 중에서 부채비율이 낮은 종목들)"
   ]
  },
  {
   "cell_type": "code",
   "execution_count": null,
   "metadata": {
    "pycharm": {
     "name": "#%%\n"
    }
   },
   "outputs": [],
   "source": [
    "import sys\n",
    "import os\n",
    "from pathlib import Path\n",
    "sys.path.append(str(Path.cwd().parent))\n",
    "\n",
    "\n",
    "from core.constants import TableKey, TableValue\n",
    "from core.constants import get_all_sub_tables\n",
    "\n",
    "\n",
    "from core.strategy import Selector, SelectorType, SelectorSequence, Filter\n",
    "\n",
    "selector_sequences = SelectorSequence(\n",
    "    selectors=[Selector(type=SelectorType.HORIZON_RANGE, key=TableKey.MARKET_CAPITALIZATION,\n",
    "                        value=(0.2, 0.5),\n",
    "                        horizon=1,\n",
    "                        is_absolute=False),\n",
    "               # Selector(type=SelectorType.PROFILE, key=TableKey.Profile.SECTOR,\n",
    "               #          value=[TableValue.Sector.TECHNOLOGY]),\n",
    "               Selector(type=SelectorType.HORIZON_RANGE, key=TableKey.FinancialRatios.Quarter.DIVIDEND_YIELD,\n",
    "                        value=(0.5, 1.0),\n",
    "                        horizon=1,\n",
    "                        is_absolute=False),\n",
    "               ])\n",
    "\n",
    "my_filter = Filter(selector_sequence_union=[selector_sequences], name=\"my filter\")\n",
    "\n",
    "baseline_filter = Filter(name='all stocks', selector_sequence_union = [SelectorSequence([Selector(type=SelectorType.PROFILE, key=TableKey.Profile.SECTOR, value=get_all_sub_tables(TableValue.Sector))])])\n",
    "\n",
    "filter_list = [my_filter, baseline_filter]"
   ]
  },
  {
   "cell_type": "markdown",
   "metadata": {
    "pycharm": {
     "name": "#%% md\n"
    }
   },
   "source": [
    "### 투자 시뮬레이션 준비\n",
    "* 자! 그럼 이제 **주어진 기간동안** (e.g., 1960년 ~ 2022년) 까지 일정한 주기로 (e.g., 3개월마다) 주식들을 골라서 갖고 있어보아요\n",
    "* 고를때 A 라는 사람은 시가총액 상위 20% 만 B 라는 전략가는 상위 20%-40% 만 .. E 라는 사람은 하위 20 % 만 꾸준히 산다고 가정해볼게요.\n",
    "* 일단 전체 모집단은 [NYSE, NASDAQ, ...? ]의 주식으로 해볼게요! (시간 관계상, 거래소 주식의 일부분만 대상으로 할게요)"
   ]
  },
  {
   "cell_type": "code",
   "execution_count": null,
   "metadata": {
    "pycharm": {
     "name": "#%%\n"
    }
   },
   "outputs": [],
   "source": [
    "from datetime import date\n",
    "from core.db_interface import DataBaseInterface\n",
    "from core.strategy import Strategist\n",
    "import pandas as pd\n",
    "from tqdm import tqdm\n",
    "\n",
    "db_interface = DataBaseInterface()\n",
    "\n",
    "exchange_pool = ['NASDAQ']\n",
    "horizon = (date(2010, 1, 1), date(2022, 8, 22))\n",
    "freq = '6M'\n",
    "\n",
    "initial_symbols = db_interface.get_stock_on_exchange(exchange_pool)\n",
    "rebalance_dates = pd.date_range(horizon[0], horizon[1], freq=freq, inclusive='both')\n",
    "strategist_list = []\n",
    "\n",
    "tqdm_object = tqdm(total=len(filter_list) * len(rebalance_dates))\n",
    "tqdm_object.set_description(f\"동양여우가 {len(initial_symbols)}개의 주식 중에서 고르는 중 \")\n",
    "\n",
    "with tqdm_object as pbar:\n",
    "    for filter_ in filter_list:\n",
    "        strategist_name = filter_.name\n",
    "        strategist = Strategist(fetcher=db_interface, name=strategist_name, asset_pool=initial_symbols,\n",
    "                                start_date=horizon[0], end_date=horizon[1])\n",
    "        for rebalance_date in rebalance_dates:\n",
    "            strategist.apply_filter(filter_in=filter_, date_in=rebalance_date.date())\n",
    "            pbar.update(1)\n",
    "        strategist_list.append(strategist)\n",
    "\n",
    "print(\"다 되었어요!\")"
   ]
  },
  {
   "cell_type": "markdown",
   "metadata": {
    "pycharm": {
     "name": "#%% md\n"
    }
   },
   "source": [
    "## 자, 그럼 우리가 여태 고른 주식들은 어떤 종목들이었는지 살펴볼까요? 😍\n",
    "### 우선 한번 크게 봐볼까요?\n",
    "* 각 전략별로 통 기간동안 고른 주식들의 섹터별 통계를 한번 봐볼게요.\n",
    "* 맨 마지막 파이는 전제 대상 주식의 분포에요."
   ]
  },
  {
   "cell_type": "code",
   "execution_count": null,
   "metadata": {
    "pycharm": {
     "name": "#%%\n"
    }
   },
   "outputs": [],
   "source": [
    "from core.evaluate import show_selection, prepare_canvas\n",
    "import matplotlib.pyplot as plt\n",
    "import math\n",
    "\n",
    "prepare_canvas(fontsize=10)\n",
    "for idx, strategist in enumerate(strategist_list):\n",
    "    plt.subplot(math.ceil(len(strategist_list) / 2), 2, idx + 1)\n",
    "    show_selection(strategist, db_interface, radius=1.5, fontsize=15, labeldistacne=1.2, titlepad=-180)"
   ]
  },
  {
   "cell_type": "markdown",
   "metadata": {
    "pycharm": {
     "name": "#%% md\n"
    }
   },
   "source": [
    "# 자, 그럼이제 우리 각 전략들을 고수했을때 우리 잔고는 어떻게 되었는지 생각해볼까요?\n",
    "* 처음 잔고를 1원이라고 가정해볼게요. 과연 이 기간동안 최종 잔고는 어떻게 되었을까요? 🤔\n",
    "* 첫번째 그림이 각 전략을 계속 고수했을 때 잔고 상태입니다."
   ]
  },
  {
   "cell_type": "code",
   "execution_count": null,
   "metadata": {
    "pycharm": {
     "name": "#%%\n"
    }
   },
   "outputs": [],
   "source": [
    "from core.evaluate import get_all_symbols_price_history\n",
    "\n",
    "df_all_price_history = get_all_symbols_price_history(strategist_list[-1], db_interface)\n",
    "df_all_price_history = df_all_price_history.resample('6D').mean()"
   ]
  },
  {
   "cell_type": "code",
   "execution_count": null,
   "metadata": {
    "pycharm": {
     "name": "#%%\n"
    }
   },
   "outputs": [],
   "source": [
    "from core.evaluate import show_comparative_report\n",
    "show_comparative_report(strategist_list, df_all_price_history)"
   ]
  },
  {
   "cell_type": "markdown",
   "metadata": {
    "pycharm": {
     "name": "#%% md\n"
    }
   },
   "source": [
    "### 다음은, 각 전략별로 기간동안 무엇을 했는지 봐볼게요.\n",
    "* 우리는 기간마다 전부 팔고, 다시 기준에 부합하는 주식을 새로 고르기 때문에 (rebalancing) 전략은 같아도 선택되는 주식은 늘 변할 거에요 !\n",
    "* 왜냐면, 시가 총액 / PBR / PER 등등 매일 혹은 매 분기마다 변하는 것이니까요."
   ]
  },
  {
   "cell_type": "code",
   "execution_count": null,
   "metadata": {
    "pycharm": {
     "name": "#%%\n"
    }
   },
   "outputs": [],
   "source": [
    "from core.evaluate import show_sector_distribution_history, analyze_leaders, prepare_canvas\n",
    "import matplotlib.pyplot as plt\n",
    "strategist = strategist_list[0]\n",
    "prepare_canvas(fontsize=11)\n",
    "plt.subplot(2, 1, 1)\n",
    "plt.title('섹터 비율 히스토리')\n",
    "show_sector_distribution_history(strategist, db_interface)\n",
    "plt.subplot(2, 1, 2)\n",
    "plt.title('보유 종목 중 수익률 TOP 10')\n",
    "df_leader_symbol, df_leader_return_ration =  analyze_leaders(strategist, df_all_price_history, True, {\n",
    "            'fontsize': 10,\n",
    "            'fontweight': 'bold',\n",
    "            'fontfamily': 'sans'\n",
    "        })"
   ]
  },
  {
   "cell_type": "markdown",
   "metadata": {
    "pycharm": {
     "name": "#%% md\n"
    }
   },
   "source": []
  }
 ],
 "metadata": {
  "kernelspec": {
   "display_name": "Python 3 (ipykernel)",
   "language": "python",
   "name": "python3"
  },
  "language_info": {
   "codemirror_mode": {
    "name": "ipython",
    "version": 3
   },
   "file_extension": ".py",
   "mimetype": "text/x-python",
   "name": "python",
   "nbconvert_exporter": "python",
   "pygments_lexer": "ipython3",
   "version": "3.10.4"
  }
 },
 "nbformat": 4,
 "nbformat_minor": 1
}