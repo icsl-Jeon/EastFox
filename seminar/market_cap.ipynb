{
 "cells": [
  {
   "cell_type": "code",
   "execution_count": 1,
   "metadata": {
    "collapsed": true,
    "pycharm": {
     "name": "#%%\n"
    }
   },
   "outputs": [],
   "source": [
    "import sys\n",
    "import os\n",
    "from pathlib import Path\n",
    "sys.path.append(str(Path.cwd().parent))\n",
    "\n",
    "from core.constants import *\n",
    "from core.strategy import Selector, SelectorType, SelectorSequence, Filter\n",
    "\n",
    "target_key = TableKey.MARKET_CAPITALIZATION\n",
    "\n",
    "n_division = 4\n",
    "lookback_year = 1\n",
    "\n",
    "filter_list = []\n",
    "relative_range_list = [(i / n_division, (i + 1) / n_division) for i in range(n_division)]\n",
    "relative_range_list.append((0.0, 1.0))\n",
    "\n",
    "for relative_value_range in relative_range_list:\n",
    "    filter_name = target_key + '=(' + str(relative_value_range[0]) + '-' + str(relative_value_range[1]) + ')'\n",
    "    relative_selector = Selector(type=SelectorType.HORIZON_RANGE, key=target_key, value=relative_value_range,\n",
    "                                 horizon=lookback_year,\n",
    "                                 is_absolute=False)\n",
    "    selector_sequence = SelectorSequence(selectors=[relative_selector])\n",
    "    filter_list.append(Filter(selector_sequence_union=[selector_sequence], name=filter_name))"
   ]
  },
  {
   "cell_type": "code",
   "execution_count": 2,
   "outputs": [
    {
     "name": "stderr",
     "output_type": "stream",
     "text": [
      "100%|██████████| 130/130 [00:05<00:00, 24.69it/s]\n"
     ]
    }
   ],
   "source": [
    "from datetime import date\n",
    "from core.db_interface import DataBaseInterface\n",
    "from core.strategy import Strategist\n",
    "import pandas as pd\n",
    "from tqdm import tqdm\n",
    "\n",
    "db_interface = DataBaseInterface()\n",
    "\n",
    "exchange_pool = ['NASDAQ','NYSE']\n",
    "horizon = (date(2010, 1, 1), date(2022, 8, 22)) # 2021 년부터 테스트 해보기 !\n",
    "freq = '6M'\n",
    "\n",
    "initial_symbols = db_interface.get_stock_on_exchange(exchange_pool)\n",
    "rebalance_dates = pd.date_range(horizon[0], horizon[1], freq=freq, inclusive='both')\n",
    "strategist_list = []\n",
    "\n",
    "tqdm_object = tqdm(total=len(filter_list) * len(rebalance_dates))\n",
    "\n",
    "with tqdm_object as pbar:\n",
    "    for filter_ in filter_list:\n",
    "        strategist_name = filter_.name\n",
    "        strategist = Strategist(fetcher=db_interface, name=strategist_name, asset_pool=initial_symbols,\n",
    "                                start_date=horizon[0], end_date=horizon[1])\n",
    "        for rebalance_date in rebalance_dates:\n",
    "            strategist.apply_filter(filter_in=filter_, date_in=rebalance_date.date())\n",
    "            pbar.update(1)\n",
    "        strategist_list.append(strategist)\n"
   ],
   "metadata": {
    "collapsed": false,
    "pycharm": {
     "name": "#%%\n"
    }
   }
  },
  {
   "cell_type": "code",
   "execution_count": 3,
   "outputs": [
    {
     "name": "stdout",
     "output_type": "stream",
     "text": [
      "2982 / 2985 종목이 유효한 가격 히스토리를 가지고 있습니다.\n"
     ]
    }
   ],
   "source": [
    "from core.evaluate import get_all_symbols_price_history\n",
    "\n",
    "df_all_price_history = get_all_symbols_price_history(strategist_list[-1], db_interface)\n",
    "df_all_price_history = df_all_price_history.resample('6D').mean()"
   ],
   "metadata": {
    "collapsed": false,
    "pycharm": {
     "name": "#%%\n"
    }
   }
  },
  {
   "cell_type": "code",
   "execution_count": 28,
   "outputs": [],
   "source": [
    "%matplotlib qt\n",
    "import matplotlib.pyplot as plt\n",
    "from core.evaluate import show_comparative_report, estimate_price_history, generate_sector_color, compute_analysis_series\n",
    "\n",
    "price_history_dict = \\\n",
    "    {strategist.name: estimate_price_history(strategist, df_all_price_history)\n",
    "     for strategist in strategist_list}\n",
    "\n",
    "\n",
    "period = '6M'\n",
    "\n",
    "fig, ax =plt.subplots(2,1,constrained_layout=True, figsize=(10, 10))\n",
    "plt.rcParams['figure.dpi'] =100\n",
    "plt.rcParams['font.size'] = 14\n",
    "plt.rcParams['font.family'] = 'Malgun Gothic'\n",
    "plt.rcParams['axes.unicode_minus'] = False\n",
    "colors = generate_sector_color(list(price_history_dict.keys()), \"husl\")\n",
    "series_list = []\n",
    "for k, v in price_history_dict.items():\n",
    "    ax1 = plt.subplot(2, 1, 1)\n",
    "    plt.plot(v, label=k, color=colors[k])\n",
    "    x_lim = plt.gca().get_xlim()\n",
    "    plt.title('잔고의 변화 (초기 = 1원)')\n",
    "    plt.legend()\n",
    "    plt.grid(axis='y',color='0.8')\n",
    "    ax1.set_facecolor('white')\n",
    "    ax1.tick_params(color='white')\n",
    "    for spine in ax1.spines.values():\n",
    "        spine.set_edgecolor('white')\n",
    "\n",
    "    ax2 = plt.subplot(2, 1, 2)\n",
    "    pct_change = v.resample(period).last().pct_change() * 100\n",
    "    plt.plot(pct_change, 'o-', color=colors[k], markersize=4, linewidth=0.8)\n",
    "    plt.title(f'{period[:-1]}개월 수익률 (%)')\n",
    "    plt.gca().set_xlim(x_lim)\n",
    "    plt.grid(axis='both',color='0.8')\n",
    "    ax2.set_facecolor('white')\n",
    "\n",
    "    series_list.append(compute_analysis_series(v, k))\n"
   ],
   "metadata": {
    "collapsed": false,
    "pycharm": {
     "name": "#%%\n"
    }
   }
  },
  {
   "cell_type": "code",
   "execution_count": 32,
   "outputs": [],
   "source": [
    "from core.evaluate import extract_sector_count_from_segment\n",
    "from core.evaluate import SECTOR_COLOR_MAP\n",
    "import matplotlib.pyplot as plt\n",
    "import math\n",
    "\n",
    "fig, axs = plt.subplots(math.ceil(len(strategist_list)/2), 2, subplot_kw=dict(aspect=\"equal\"), )\n",
    "for idx, strategist in enumerate(strategist_list):\n",
    "    ax = axs[int(idx/2), idx%2]\n",
    "    accumulated_sector_count = pd.concat([extract_sector_count_from_segment(column, db_interface) for column in strategist.state[1:]],axis=1).sort_index().fillna(0).astype(int).sum(axis=1)\n",
    "    if 'Services' in accumulated_sector_count.index:\n",
    "        accumulated_sector_count.drop(index=['Services'],inplace=True)\n",
    "    wedges, autotexts = ax.pie(accumulated_sector_count.values,colors=[SECTOR_COLOR_MAP[sector] for sector in accumulated_sector_count.index])\n",
    "\n",
    "\n",
    "    ax.set_title(strategist.name)\n",
    "\n",
    "ax = axs[math.ceil(len(strategist_list)/2)-1,1]\n",
    "ax.get_xaxis().set_ticks([])\n",
    "ax.get_yaxis().set_ticks([])\n",
    "ax.spines['top'].set_visible(False)\n",
    "ax.spines['right'].set_visible(False)\n",
    "ax.spines['bottom'].set_visible(False)\n",
    "ax.spines['left'].set_visible(False)\n",
    "ax.legend(wedges, list(accumulated_sector_count.index), loc='center', prop={'size': 7})\n",
    "plt.setp(autotexts, size=4, weight=\"bold\")\n",
    "plt.show()"
   ],
   "metadata": {
    "collapsed": false,
    "pycharm": {
     "name": "#%%\n"
    }
   }
  },
  {
   "cell_type": "code",
   "execution_count": 30,
   "outputs": [],
   "source": [
    "from core.evaluate import analyze_leaders\n",
    "import numpy as np\n",
    "import pandas as pd\n",
    "import seaborn as sns\n",
    "import matplotlib.pyplot as plt\n",
    "\n",
    "%matplotlib qt\n",
    "df_leader_symbol, df_leader_return_ratio = analyze_leaders(strategist_list[0],df_all_price_history,False,{\"size\": 8})\n",
    "unique, counts = np.unique(df_leader_symbol.values.flatten(),return_counts=True)\n",
    "leader_count_series = pd.Series(dict(zip(unique, counts))).sort_values(ascending=False)\n",
    "ax = sns.heatmap(df_leader_return_ratio, annot=df_leader_symbol, fmt='', annot_kws={\"size\": 8},cmap='RdPu')\n",
    "sns.set(font_scale = 0.8)\n",
    "plt.rcParams['figure.dpi'] = 300\n",
    "plt.show()\n"
   ],
   "metadata": {
    "collapsed": false,
    "pycharm": {
     "name": "#%%\n"
    }
   }
  },
  {
   "cell_type": "code",
   "execution_count": 31,
   "outputs": [
    {
     "name": "stderr",
     "output_type": "stream",
     "text": [
      "C:\\Users\\JBS\\AppData\\Local\\Temp\\ipykernel_23816\\860482410.py:8: SettingWithCopyWarning: \n",
      "A value is trying to be set on a copy of a slice from a DataFrame.\n",
      "Try using .loc[row_indexer,col_indexer] = value instead\n",
      "\n",
      "See the caveats in the documentation: https://pandas.pydata.org/pandas-docs/stable/user_guide/indexing.html#returning-a-view-versus-a-copy\n",
      "  df_price_history_leader_of_leaders[column] = leader_price_history\n"
     ]
    }
   ],
   "source": [
    "leader_of_leaders = leader_count_series[0:10].index\n",
    "df_price_history_leader_of_leaders = df_all_price_history[leader_of_leaders]\n",
    "first_valid_index_list = [df_price_history_leader_of_leaders[column].first_valid_index() for column in df_price_history_leader_of_leaders]\n",
    "for column_idx, column in enumerate(df_price_history_leader_of_leaders):\n",
    "    leader_price_history : pd.Series = df_price_history_leader_of_leaders[column]\n",
    "    first_valid_price = leader_price_history.loc[first_valid_index_list[column_idx]]\n",
    "    leader_price_history /= first_valid_price\n",
    "    df_price_history_leader_of_leaders[column] = leader_price_history\n",
    "ax = df_price_history_leader_of_leaders.plot(linewidth=1)\n",
    "ax.set_facecolor('w')"
   ],
   "metadata": {
    "collapsed": false,
    "pycharm": {
     "name": "#%%\n"
    }
   }
  },
  {
   "cell_type": "code",
   "execution_count": 80,
   "outputs": [],
   "source": [
    "\n"
   ],
   "metadata": {
    "collapsed": false,
    "pycharm": {
     "name": "#%%\n"
    }
   }
  }
 ],
 "metadata": {
  "kernelspec": {
   "display_name": "Python 3",
   "language": "python",
   "name": "python3"
  },
  "language_info": {
   "codemirror_mode": {
    "name": "ipython",
    "version": 2
   },
   "file_extension": ".py",
   "mimetype": "text/x-python",
   "name": "python",
   "nbconvert_exporter": "python",
   "pygments_lexer": "ipython2",
   "version": "2.7.6"
  }
 },
 "nbformat": 4,
 "nbformat_minor": 0
}