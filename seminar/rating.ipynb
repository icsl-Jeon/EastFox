{
 "cells": [
  {
   "cell_type": "code",
   "execution_count": 66,
   "metadata": {
    "collapsed": true,
    "pycharm": {
     "name": "#%%\n"
    }
   },
   "outputs": [],
   "source": [
    "import sys\n",
    "import os\n",
    "from pathlib import Path\n",
    "sys.path.append(str(Path.cwd().parent))\n",
    "\n",
    "from core.constants import *\n",
    "from core.strategy import Selector, SelectorType, SelectorSequence, Filter\n",
    "\n",
    "target_key = TableKey.COMPANY_RATING\n",
    "\n",
    "n_division = 4\n",
    "lookback_year = 1\n",
    "\n",
    "filter_list = []\n",
    "relative_range_list = [(i / n_division, (i + 1) / n_division) for i in range(n_division)]\n",
    "relative_range_list.append((0.0, 1.0))\n",
    "\n",
    "for relative_value_range in relative_range_list:\n",
    "    filter_name = target_key + '=(' + str(relative_value_range[0]) + '-' + str(relative_value_range[1]) + ')'\n",
    "    relative_selector = Selector(type=SelectorType.GROWTH, key=target_key, value=relative_value_range,\n",
    "                                 horizon=lookback_year,\n",
    "                                 is_absolute=False) # vs GROWTH\n",
    "    selector_sequence = SelectorSequence(selectors=[relative_selector])\n",
    "    filter_list.append(Filter(selector_sequence_union=[selector_sequence], name=filter_name))"
   ]
  },
  {
   "cell_type": "code",
   "execution_count": 67,
   "outputs": [
    {
     "name": "stderr",
     "output_type": "stream",
     "text": [
      "100%|██████████| 55/55 [00:00<00:00, 146.18it/s]\n"
     ]
    }
   ],
   "source": [
    "from datetime import date\n",
    "from core.db_interface import DataBaseInterface\n",
    "from core.strategy import Strategist\n",
    "import pandas as pd\n",
    "from tqdm import tqdm\n",
    "\n",
    "db_interface = DataBaseInterface()\n",
    "\n",
    "exchange_pool = ['NASDAQ','NYSE']\n",
    "horizon = (date(2021, 3, 1), date(2022, 2, 25)) # 2021 년부터 테스트 해보기 !\n",
    "freq = '1M'\n",
    "\n",
    "initial_symbols = db_interface.get_stock_on_exchange(exchange_pool)\n",
    "rebalance_dates = pd.date_range(horizon[0], horizon[1], freq=freq, inclusive='both')\n",
    "strategist_list = []\n",
    "\n",
    "tqdm_object = tqdm(total=len(filter_list) * len(rebalance_dates))\n",
    "\n",
    "with tqdm_object as pbar:\n",
    "    for filter_ in filter_list:\n",
    "        strategist_name = filter_.name\n",
    "        strategist = Strategist(fetcher=db_interface, name=strategist_name, asset_pool=initial_symbols,\n",
    "                                start_date=horizon[0], end_date=horizon[1])\n",
    "        for rebalance_date in rebalance_dates:\n",
    "            strategist.apply_filter(filter_in=filter_, date_in=rebalance_date.date())\n",
    "            pbar.update(1)\n",
    "        strategist_list.append(strategist)\n"
   ],
   "metadata": {
    "collapsed": false,
    "pycharm": {
     "name": "#%%\n"
    }
   }
  },
  {
   "cell_type": "code",
   "execution_count": 68,
   "outputs": [
    {
     "name": "stdout",
     "output_type": "stream",
     "text": [
      "179 / 179 종목이 유효한 가격 히스토리를 가지고 있습니다.\n"
     ]
    }
   ],
   "source": [
    "from core.evaluate import get_all_symbols_price_history\n",
    "\n",
    "df_all_price_history = get_all_symbols_price_history(strategist_list[-1], db_interface)\n",
    "df_all_price_history = df_all_price_history.resample('6D').mean()"
   ],
   "metadata": {
    "collapsed": false,
    "pycharm": {
     "name": "#%%\n"
    }
   }
  },
  {
   "cell_type": "code",
   "execution_count": 1,
   "outputs": [
    {
     "ename": "NameError",
     "evalue": "name 'df_all_price_history' is not defined",
     "output_type": "error",
     "traceback": [
      "\u001B[1;31m---------------------------------------------------------------------------\u001B[0m",
      "\u001B[1;31mNameError\u001B[0m                                 Traceback (most recent call last)",
      "Input \u001B[1;32mIn [1]\u001B[0m, in \u001B[0;36m<cell line: 1>\u001B[1;34m()\u001B[0m\n\u001B[1;32m----> 1\u001B[0m \u001B[43mdf_all_price_history\u001B[49m\u001B[38;5;241m.\u001B[39mdrop(\u001B[38;5;124m'\u001B[39m\u001B[38;5;124mJE\u001B[39m\u001B[38;5;124m'\u001B[39m,axis\u001B[38;5;241m=\u001B[39m\u001B[38;5;241m1\u001B[39m,inplace\u001B[38;5;241m=\u001B[39m\u001B[38;5;28;01mTrue\u001B[39;00m)\n",
      "\u001B[1;31mNameError\u001B[0m: name 'df_all_price_history' is not defined"
     ]
    }
   ],
   "source": [
    "df_all_price_history.drop('JE',axis=1,inplace=True)"
   ],
   "metadata": {
    "collapsed": false,
    "pycharm": {
     "name": "#%%\n"
    }
   }
  },
  {
   "cell_type": "code",
   "execution_count": 69,
   "outputs": [],
   "source": [
    "%matplotlib qt\n",
    "import matplotlib.pyplot as plt\n",
    "from core.evaluate import show_comparative_report, estimate_price_history, generate_sector_color, compute_analysis_series\n",
    "\n",
    "price_history_dict = \\\n",
    "    {strategist.name: estimate_price_history(strategist, df_all_price_history)\n",
    "     for strategist in strategist_list}\n",
    "\n",
    "\n",
    "period = '1M'\n",
    "\n",
    "fig, ax =plt.subplots(2,1,constrained_layout=True, figsize=(10, 10))\n",
    "plt.rcParams['figure.dpi'] =100\n",
    "plt.rcParams['font.size'] = 14\n",
    "plt.rcParams['font.family'] = 'Malgun Gothic'\n",
    "plt.rcParams['axes.unicode_minus'] = False\n",
    "colors = generate_sector_color(list(price_history_dict.keys()), \"husl\")\n",
    "series_list = []\n",
    "for k, v in price_history_dict.items():\n",
    "    ax1 = plt.subplot(2, 1, 1)\n",
    "    plt.plot(v, label=k, color=colors[k])\n",
    "    x_lim = plt.gca().get_xlim()\n",
    "    plt.title('잔고의 변화 (초기 = 1원)')\n",
    "    plt.legend()\n",
    "    plt.grid(axis='y',color='0.8')\n",
    "    ax1.set_facecolor('white')\n",
    "    ax1.tick_params(color='white')\n",
    "    for spine in ax1.spines.values():\n",
    "        spine.set_edgecolor('white')\n",
    "\n",
    "    ax2 = plt.subplot(2, 1, 2)\n",
    "    pct_change = v.resample(period).last().pct_change() * 100\n",
    "    plt.plot(pct_change, 'o-', color=colors[k], markersize=4, linewidth=0.8)\n",
    "    plt.title(f'{period[:-1]}개월 수익률 (%)')\n",
    "    plt.gca().set_xlim(x_lim)\n",
    "    plt.grid(axis='both',color='0.8')\n",
    "    ax2.set_facecolor('white')\n",
    "\n",
    "    series_list.append(compute_analysis_series(v, k))\n"
   ],
   "metadata": {
    "collapsed": false,
    "pycharm": {
     "name": "#%%\n"
    }
   }
  }
 ],
 "metadata": {
  "kernelspec": {
   "display_name": "Python 3",
   "language": "python",
   "name": "python3"
  },
  "language_info": {
   "codemirror_mode": {
    "name": "ipython",
    "version": 2
   },
   "file_extension": ".py",
   "mimetype": "text/x-python",
   "name": "python",
   "nbconvert_exporter": "python",
   "pygments_lexer": "ipython2",
   "version": "2.7.6"
  }
 },
 "nbformat": 4,
 "nbformat_minor": 0
}